{
 "cells": [
  {
   "cell_type": "markdown",
   "metadata": {},
   "source": [
    " # for 循环使用练习"
   ]
  },
  {
   "cell_type": "code",
   "execution_count": null,
   "metadata": {},
   "outputs": [],
   "source": [
    "#例1，打印简单图形\n",
    "#打印如下\n",
    "'''\n",
    "* * * * *\n",
    "* * * * *\n",
    "* * * * *\n",
    "* * * * * \n",
    "'''"
   ]
  },
  {
   "cell_type": "code",
   "execution_count": 4,
   "metadata": {},
   "outputs": [
    {
     "name": "stdout",
     "output_type": "stream",
     "text": [
      "WordWordWord\n"
     ]
    }
   ],
   "source": [
    "#字符串的乘法\n",
    "#一个字符串乘以一个数字n，表示把这个字符串打印n遍\n",
    "var1 = 'Word'\n",
    "print(var1*3)"
   ]
  },
  {
   "cell_type": "code",
   "execution_count": 7,
   "metadata": {},
   "outputs": [
    {
     "name": "stdout",
     "output_type": "stream",
     "text": [
      "* * * * * \n",
      "* * * * * \n",
      "* * * * * \n",
      "* * * * * \n"
     ]
    }
   ],
   "source": [
    "#\n",
    "for i in range(4):\n",
    "    print('* ' * 5)"
   ]
  },
  {
   "cell_type": "code",
   "execution_count": 5,
   "metadata": {},
   "outputs": [
    {
     "name": "stdout",
     "output_type": "stream",
     "text": [
      "* * * * *\n",
      "* * * * *\n",
      "* * * * *\n",
      "* * * * *\n"
     ]
    }
   ],
   "source": [
    "#打印图形方法一\n",
    "for i in range(4):\n",
    "    print('* * * * *')"
   ]
  },
  {
   "cell_type": "code",
   "execution_count": 6,
   "metadata": {},
   "outputs": [
    {
     "name": "stdout",
     "output_type": "stream",
     "text": [
      "* * * * * \n",
      "* * * * * \n",
      "* * * * * \n",
      "* * * * * \n"
     ]
    }
   ],
   "source": [
    "#打印图形方法二\n",
    "for i in range(4):\n",
    "    #利用for循环打印一行星号\n",
    "    #end代表行结尾的方式，默认print是换行，end=' '表示print后面跟空格，而不是换行。\n",
    "    for n in range(5):\n",
    "        print('*',end = \" \") #每打印一个*，后面接一个空格\n",
    "    #对于外层for循环中的每个变量，内层for循环执行完成后，打印一个换行\n",
    "    print() #print打印表示换行"
   ]
  },
  {
   "cell_type": "code",
   "execution_count": null,
   "metadata": {},
   "outputs": [],
   "source": [
    "例2：联系打印图形\n",
    "'''\n",
    "* * * * * \n",
    "*       * \n",
    "*       * \n",
    "* * * * *\n",
    "'''"
   ]
  },
  {
   "cell_type": "code",
   "execution_count": 25,
   "metadata": {},
   "outputs": [
    {
     "name": "stdout",
     "output_type": "stream",
     "text": [
      "* * * * * \n",
      "*       *\n",
      "*       *\n",
      "* * * * * \n"
     ]
    }
   ],
   "source": [
    "#方法一\n",
    "for i in range(4):\n",
    "    if i == 0 or i == 3:\n",
    "        print('* ' * 5)\n",
    "    if i == 1 or i == 2:\n",
    "        print('*       *')"
   ]
  },
  {
   "cell_type": "code",
   "execution_count": 21,
   "metadata": {},
   "outputs": [
    {
     "name": "stdout",
     "output_type": "stream",
     "text": [
      "* * * * * \n",
      "*       * \n",
      "*       * \n",
      "* * * * * \n"
     ]
    }
   ],
   "source": [
    "#方法二\n",
    "#第一次for循环同上例\n",
    "for i in range(4):\n",
    "    #如果是第1，4行，打印5个星号\n",
    "    if i == 0 or i == 3:\n",
    "        print('* ' * 5)\n",
    "    #如果是第2，3行进行第二层for循环\n",
    "    if i == 1 or i == 2:\n",
    "        for n in range(5):\n",
    "            #当是第1，5列时，打印星号\n",
    "            if n == 0 or n == 4:\n",
    "                print('*',end = \" \")\n",
    "            #当是第2-4列时，打印空格\n",
    "            else:\n",
    "                print('  ',end = \"\")\n",
    "        #对于每一个i，for循环结束后，打印一个换行\n",
    "        print()"
   ]
  },
  {
   "cell_type": "code",
   "execution_count": null,
   "metadata": {},
   "outputs": [],
   "source": [
    "#例3，打印三角形\n",
    "'''\n",
    "*\n",
    "* *\n",
    "* * *\n",
    "* * * *\n",
    "* * * * *\n",
    "'''"
   ]
  },
  {
   "cell_type": "code",
   "execution_count": 28,
   "metadata": {},
   "outputs": [
    {
     "name": "stdout",
     "output_type": "stream",
     "text": [
      "\n",
      "* \n",
      "* * \n",
      "* * * \n",
      "* * * * \n",
      "* * * * * \n"
     ]
    }
   ],
   "source": [
    "#方法一\n",
    "for i in range(6):\n",
    "    print('* ' * i)"
   ]
  },
  {
   "cell_type": "code",
   "execution_count": 89,
   "metadata": {},
   "outputs": [
    {
     "name": "stdout",
     "output_type": "stream",
     "text": [
      "* \n",
      "* * \n",
      "* * * \n",
      "* * * * \n",
      "* * * * * \n"
     ]
    }
   ],
   "source": [
    "#方法一的变形\n",
    "for i in range(5):\n",
    "    for n in range(i+1): #n要和i相等，所以这里是i+1\n",
    "        print('*',end = ' ')\n",
    "    print()"
   ]
  },
  {
   "cell_type": "code",
   "execution_count": null,
   "metadata": {},
   "outputs": [],
   "source": [
    "#例4，打印空心三角形\n",
    "'''\n",
    "* \n",
    "* * \n",
    "*   * \n",
    "*     * \n",
    "* * * * *\n",
    "'''\n"
   ]
  },
  {
   "cell_type": "code",
   "execution_count": 87,
   "metadata": {},
   "outputs": [
    {
     "name": "stdout",
     "output_type": "stream",
     "text": [
      "* \n",
      "* * \n",
      "*   * \n",
      "*     * \n",
      "* * * * * \n"
     ]
    }
   ],
   "source": [
    "#\n",
    "for i in range(5):\n",
    "    #首先判断是不是最后一行，如果是打印5个星号\n",
    "    #然后其余的行，只打印首列和最后一列\n",
    "    for n in range(i+1):\n",
    "        if i == 4:\n",
    "            #当i=4时，j有5个取值，针对每个j的取值，都打印一个星号\n",
    "            print('* ',end='')\n",
    "            #continue语句在i=4时，屏蔽了下面的if条件语句\n",
    "            continue\n",
    "        #当i是其他值时，判断是不是首列和最后一列，如果是，打印一个星号        \n",
    "        if n == 0 or n == i:\n",
    "            print('* ',end='')\n",
    "        #如果不是打印空格\n",
    "        else:\n",
    "             print('  ',end='')\n",
    "    print()"
   ]
  },
  {
   "cell_type": "code",
   "execution_count": 82,
   "metadata": {},
   "outputs": [
    {
     "name": "stdout",
     "output_type": "stream",
     "text": [
      "* \n",
      "* * \n",
      "*   * \n",
      "*     * \n",
      "* * * * * \n"
     ]
    }
   ],
   "source": [
    "#\n",
    "for i in range(5):\n",
    "    if i == 4:\n",
    "        print('* ' * (i+1))\n",
    "    else:\n",
    "        for n in range(i+1):\n",
    "            if n == 0 or n == i:\n",
    "                print('* ',end='')\n",
    "            else:\n",
    "                print('  ',end='')\n",
    "        print()"
   ]
  },
  {
   "cell_type": "code",
   "execution_count": null,
   "metadata": {},
   "outputs": [],
   "source": [
    "例5，打印倒三角\n",
    "'''\n",
    "* * * * *\n",
    "* * * *\n",
    "* * *\n",
    "* *\n",
    "*\n",
    "'''"
   ]
  },
  {
   "cell_type": "code",
   "execution_count": 88,
   "metadata": {},
   "outputs": [
    {
     "name": "stdout",
     "output_type": "stream",
     "text": [
      "* * * * * \n",
      "* * * * \n",
      "* * * \n",
      "* * \n",
      "* \n"
     ]
    }
   ],
   "source": [
    "#通常方法\n",
    "for i in range(5):\n",
    "    for n in range(5-i):\n",
    "        print('* ',end='')\n",
    "    print()"
   ]
  },
  {
   "cell_type": "code",
   "execution_count": null,
   "metadata": {},
   "outputs": [],
   "source": [
    "例5，打印空心倒三角\n",
    "'''\n",
    "* * * * *\n",
    "*     *\n",
    "*   *\n",
    "* *\n",
    "*\n",
    "'''"
   ]
  },
  {
   "cell_type": "code",
   "execution_count": 96,
   "metadata": {},
   "outputs": [
    {
     "name": "stdout",
     "output_type": "stream",
     "text": [
      "* * * * * \n",
      "*     * \n",
      "*   * \n",
      "* * \n",
      "* \n"
     ]
    }
   ],
   "source": [
    "#\n",
    "for i in range(5):\n",
    "    #首先判断是不是最后一行，如果是打印5个星号\n",
    "    #然后其余的行，只打印首列和最后一列\n",
    "    for n in range(5-i):\n",
    "        if i == 0:\n",
    "            #当i=0时，j有5个取值，针对每个j的取值，都打印一个星号\n",
    "            print('* ',end='')\n",
    "            continue\n",
    "        #当i是其他值时，判断是不是首列和最后一列，如果是，打印一个星号\n",
    "        #第一行的列数是0-4，从第二行开始递减\n",
    "        if n == 0 or n == (5-i-1):\n",
    "            print('* ',end='')\n",
    "        #如果不是打印空格\n",
    "        else:\n",
    "             print('  ',end='')\n",
    "    print()"
   ]
  },
  {
   "cell_type": "code",
   "execution_count": null,
   "metadata": {},
   "outputs": [],
   "source": [
    "#例6打印正三角形\n",
    "#打印等边三角形\n",
    "'''\n",
    "      *\n",
    "    * * *\n",
    "  * * * * * \n",
    "* * * * * * * \n",
    "'''\n",
    "#打印等腰三角形\n",
    "'''\n",
    "    *\n",
    "   * *\n",
    "  * * *\n",
    " * * * *\n",
    "* * * * * \n",
    "'''\n"
   ]
  },
  {
   "cell_type": "code",
   "execution_count": 126,
   "metadata": {},
   "outputs": [
    {
     "name": "stdout",
     "output_type": "stream",
     "text": [
      "@@@@\n",
      "@@@\n",
      "@@\n",
      "@\n",
      "\n"
     ]
    }
   ],
   "source": [
    "#打印等腰三角形\n",
    "#第一步，打印每行的空格数\n",
    "#range(n)的范围既是三角形底边星号的个数，第一行的星号和最后一行的中心\n",
    "#位置永远是对齐的，并且和最后一行首个星号永远差n-1个空格，\n",
    "#第二行的第一个差n-2,以此类推。\n",
    "#所以先打印前n-1行，每行首个星号前的空格\n",
    "#这里以@符号代替空格显示\n",
    "#@符号的个数，代表了前n-1行，每行首个星号到左边缘的空格数量\n",
    "for i in range(5):\n",
    "    for n in range(5-i-1):\n",
    "        print('@',end='')\n",
    "    print()"
   ]
  },
  {
   "cell_type": "code",
   "execution_count": 117,
   "metadata": {},
   "outputs": [
    {
     "name": "stdout",
     "output_type": "stream",
     "text": [
      "* \n",
      "* * \n",
      "* * * \n",
      "* * * * \n",
      "* * * * * \n"
     ]
    }
   ],
   "source": [
    "#第二步打印每行的星号数量\n",
    "#首行只有一个，往后依次增加\n",
    "for i in range(5):\n",
    "    for m in range(i+1):\n",
    "        print('* ',end='')\n",
    "    print()"
   ]
  },
  {
   "cell_type": "code",
   "execution_count": 130,
   "metadata": {},
   "outputs": [
    {
     "name": "stdout",
     "output_type": "stream",
     "text": [
      "    * \n",
      "   * * \n",
      "  * * * \n",
      " * * * * \n",
      "* * * * * \n"
     ]
    }
   ],
   "source": [
    "#第三步将两部分合起来\n",
    "for i in range(5):\n",
    "    for n in range(5-i-1):\n",
    "        print(' ',end='')\n",
    "    for m in range(i+1):\n",
    "        print('* ',end='')\n",
    "    print()"
   ]
  },
  {
   "cell_type": "code",
   "execution_count": null,
   "metadata": {},
   "outputs": [],
   "source": [
    "#例7 打印空三角\n",
    "'''\n",
    "    * \n",
    "   * * \n",
    "  *   * \n",
    "*     * \n",
    "* * * * * \n",
    "'''"
   ]
  },
  {
   "cell_type": "code",
   "execution_count": 142,
   "metadata": {},
   "outputs": [
    {
     "name": "stdout",
     "output_type": "stream",
     "text": [
      "@@@@\n",
      "@@@\n",
      "@@\n",
      "@\n",
      "\n"
     ]
    }
   ],
   "source": [
    "for i in range(5):\n",
    "    for n in range(5-i-1):\n",
    "        print('@',end='')\n",
    "    print()"
   ]
  },
  {
   "cell_type": "code",
   "execution_count": 144,
   "metadata": {},
   "outputs": [
    {
     "name": "stdout",
     "output_type": "stream",
     "text": [
      "    * \n",
      "   * * \n",
      "  *   * \n",
      " *     * \n",
      "* * * * * \n"
     ]
    }
   ],
   "source": [
    "#同打印宝塔的等腰三角形，分两步走\n",
    "#确定底边星号个数\n",
    "for i in range(5):\n",
    "    #第一步，先打印前n-1行，每行首个星号前空格的数量\n",
    "    for n in range(5-i-1):\n",
    "        print(' ',end='')\n",
    "    #第二步，将每行的星号打印出来\n",
    "    #先将底边的星号全部打印出来，等同于三角形处    \n",
    "    for m in range(i+1):\n",
    "        if i == 4:\n",
    "            print('* ',end='')\n",
    "            continue\n",
    "        #在打印其他行的星号，只打印第一列和最后一列    \n",
    "        if m == 0 or m == i:\n",
    "            print('* ',end='')\n",
    "        else:\n",
    "            print('  ',end='')\n",
    "    #两步执行完毕就是在相应的空格后面添加打印的星号，每执行一次换行\n",
    "    print()"
   ]
  }
 ],
 "metadata": {
  "kernelspec": {
   "display_name": "Python 3",
   "language": "python",
   "name": "python3"
  },
  "language_info": {
   "codemirror_mode": {
    "name": "ipython",
    "version": 3
   },
   "file_extension": ".py",
   "mimetype": "text/x-python",
   "name": "python",
   "nbconvert_exporter": "python",
   "pygments_lexer": "ipython3",
   "version": "3.6.5"
  }
 },
 "nbformat": 4,
 "nbformat_minor": 2
}
