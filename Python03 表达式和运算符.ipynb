{
 "cells": [
  {
   "cell_type": "markdown",
   "metadata": {},
   "source": [
    "## 表达式\n",
    "- 有一个或几个数字或变量和运算符组成的一行代码\n",
    "- 通常会有一个返回值"
   ]
  },
  {
   "cell_type": "markdown",
   "metadata": {},
   "source": [
    "## 运算符\n",
    "- 运算符分类\n",
    "    - 算术运算\n",
    "    - 比较或者关系运算符\n",
    "    - 赋值运算符\n",
    "    - 逻辑运算\n",
    "    - 位运算\n",
    "    - 成员运算符\n",
    "    - 身份运算"
   ]
  },
  {
   "cell_type": "markdown",
   "metadata": {},
   "source": [
    "### 算术运算符\n",
    "- 运算符：+，-，*，/，%，**， "
   ]
  },
  {
   "cell_type": "code",
   "execution_count": 1,
   "metadata": {},
   "outputs": [
    {
     "name": "stdout",
     "output_type": "stream",
     "text": [
      "6 4 10 1 8\n"
     ]
    }
   ],
   "source": [
    "#整数的运算\n",
    "a = 3+3\n",
    "b = 8-4\n",
    "c = 2*5\n",
    "d = 7%2\n",
    "e = 2**3\n",
    "print(a,b,c,d,e)"
   ]
  },
  {
   "cell_type": "code",
   "execution_count": 2,
   "metadata": {},
   "outputs": [
    {
     "name": "stdout",
     "output_type": "stream",
     "text": [
      "5.5 4.9 2.5 2.6 6.25\n"
     ]
    }
   ],
   "source": [
    "#小数的运算\n",
    "a = 3.4+2.1\n",
    "b = 9.8/2\n",
    "c = 5/2\n",
    "d = 2*1.3\n",
    "e = 2.5**2\n",
    "print(a,b,c,d,e)"
   ]
  },
  {
   "cell_type": "code",
   "execution_count": 4,
   "metadata": {},
   "outputs": [
    {
     "name": "stdout",
     "output_type": "stream",
     "text": [
      "2.25 2\n"
     ]
    }
   ],
   "source": [
    "#特殊的一些运算\n",
    "#// 表示取商运算\n",
    "a = 9 / 4\n",
    "b = 9 // 4\n",
    "print(a,b)"
   ]
  },
  {
   "cell_type": "markdown",
   "metadata": {},
   "source": [
    "### 比较运算符\n",
    "- 对两个或多个变量进行比较\n",
    "- 运算的结果是布尔值\n",
    "- 运算符的类型：\n",
    "    - <,>,==(双等号),!=,<=,>="
   ]
  },
  {
   "cell_type": "code",
   "execution_count": 6,
   "metadata": {},
   "outputs": [
    {
     "name": "stdout",
     "output_type": "stream",
     "text": [
      "False\n"
     ]
    }
   ],
   "source": [
    "#\n",
    "a = 3+5\n",
    "b = 5*4\n",
    "c = a > b\n",
    "print(c)"
   ]
  },
  {
   "cell_type": "code",
   "execution_count": null,
   "metadata": {},
   "outputs": [],
   "source": []
  },
  {
   "cell_type": "code",
   "execution_count": 5,
   "metadata": {},
   "outputs": [
    {
     "name": "stdout",
     "output_type": "stream",
     "text": [
      "False\n"
     ]
    }
   ],
   "source": [
    "#双等于号==\n",
    "a = 3 ** 5\n",
    "b = a == 100\n",
    "print(b)\n"
   ]
  },
  {
   "cell_type": "markdown",
   "metadata": {},
   "source": [
    "### 赋值运算符\n",
    "- 使用 = 对标量进行赋值\n",
    "- 缩写形式:\n",
    "    - +=,*=等\n",
    "    - a += 5 相当于 a = a + 5\n",
    "    - a *=5 相当于 a = a * 5"
   ]
  },
  {
   "cell_type": "code",
   "execution_count": 11,
   "metadata": {},
   "outputs": [
    {
     "name": "stdout",
     "output_type": "stream",
     "text": [
      "10 25\n"
     ]
    }
   ],
   "source": [
    "a = c = 5\n",
    "a += 5\n",
    "c *= 5\n",
    "print(a,c)"
   ]
  },
  {
   "cell_type": "markdown",
   "metadata": {},
   "source": [
    "### 逻辑运算符\n",
    "- 对布尔值进行的运算\n",
    "- and 逻辑与\n",
    "- or 逻辑或\n",
    "- not 逻辑非\n",
    "- Python中没有异或运算\n",
    "- 规则：\n",
    "    - and 可以看作乘法，or 看作加法\n",
    "    - True看作1，False看作0\n",
    "    - 如果预算的结果是1这位True，0则为False"
   ]
  },
  {
   "cell_type": "code",
   "execution_count": 12,
   "metadata": {},
   "outputs": [
    {
     "name": "stdout",
     "output_type": "stream",
     "text": [
      "True False True True False True\n"
     ]
    }
   ],
   "source": [
    "#例\n",
    "a = 3 > 2\n",
    "b = 1 == 8\n",
    "c = 5 == 5\n",
    "d = a and b or c # 1 * 0 +1\n",
    "e = a and b and c # 1 * 0 * 1\n",
    "f = a or b and c # 1 + 0 * 1\n",
    "print(a,b,c,d,e,f)"
   ]
  },
  {
   "cell_type": "code",
   "execution_count": null,
   "metadata": {},
   "outputs": [],
   "source": [
    "#逻辑运算符的短路问题\n",
    "#逻辑运算式，按照运算顺序，一旦确定了整个表达式的值，则不再进行后续的计算，直接返回\n",
    "a = True or xxxxxxx\n",
    "#这个表达式，True or 就已经决定了该表达式返回值为True，后面的xxxx就不会进行了\n"
   ]
  },
  {
   "cell_type": "markdown",
   "metadata": {},
   "source": [
    " ### 成员运算符\n",
    " - 用来检测一个值是不是一个变量的成员\n",
    " - 使用 in 或 not in"
   ]
  },
  {
   "cell_type": "code",
   "execution_count": 13,
   "metadata": {},
   "outputs": [
    {
     "name": "stdout",
     "output_type": "stream",
     "text": [
      "True\n",
      "True\n"
     ]
    }
   ],
   "source": [
    "#例\n",
    "list1 = [1,1.2,4,5,6,True]\n",
    "a = 5\n",
    "b = 3 > 1\n",
    "print(a in list1)\n",
    "print(b in list1)"
   ]
  },
  {
   "cell_type": "markdown",
   "metadata": {},
   "source": [
    "### 身份运算符\n",
    "- 用来检测两个变量是不是同一个变量\n",
    "- 使用 is，is not"
   ]
  },
  {
   "cell_type": "code",
   "execution_count": 14,
   "metadata": {},
   "outputs": [
    {
     "name": "stdout",
     "output_type": "stream",
     "text": [
      "True\n",
      "False\n"
     ]
    }
   ],
   "source": [
    "#例\n",
    "a = 4\n",
    "b = 4\n",
    "c = 2 + 2\n",
    "print(a is b)\n",
    "print(b is not c)"
   ]
  },
  {
   "cell_type": "markdown",
   "metadata": {},
   "source": [
    "## 运算符的优先级\n",
    "- 算术运算符同数学中的运算符\n",
    "- ()括号优先级最高\n",
    "- 其他"
   ]
  },
  {
   "cell_type": "code",
   "execution_count": null,
   "metadata": {},
   "outputs": [],
   "source": []
  },
  {
   "cell_type": "code",
   "execution_count": null,
   "metadata": {},
   "outputs": [],
   "source": []
  },
  {
   "cell_type": "code",
   "execution_count": null,
   "metadata": {},
   "outputs": [],
   "source": []
  },
  {
   "cell_type": "code",
   "execution_count": null,
   "metadata": {},
   "outputs": [],
   "source": []
  }
 ],
 "metadata": {
  "kernelspec": {
   "display_name": "Python 3",
   "language": "python",
   "name": "python3"
  },
  "language_info": {
   "codemirror_mode": {
    "name": "ipython",
    "version": 3
   },
   "file_extension": ".py",
   "mimetype": "text/x-python",
   "name": "python",
   "nbconvert_exporter": "python",
   "pygments_lexer": "ipython3",
   "version": "3.6.5"
  }
 },
 "nbformat": 4,
 "nbformat_minor": 2
}
