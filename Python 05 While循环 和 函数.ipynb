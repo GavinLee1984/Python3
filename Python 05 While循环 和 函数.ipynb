{
 "cells": [
  {
   "cell_type": "markdown",
   "metadata": {},
   "source": [
    "## while 循环\n",
    "- 表示当某个条件成立的时候，就循环\n",
    "- 循环的次数是不确定的\n",
    "- while 语句结构\n",
    "\n",
    "        while 条件表达式：\n",
    "            语句块1\n",
    "            ...\n",
    "            \n",
    "        while 条件表达式:\n",
    "            语句块2\n",
    "            ..."
   ]
  },
  {
   "cell_type": "code",
   "execution_count": 3,
   "metadata": {},
   "outputs": [
    {
     "name": "stdout",
     "output_type": "stream",
     "text": [
      "第1年拿了10680.00块钱\n",
      "第2年拿了11406.24块钱\n",
      "第3年拿了12181.86块钱\n",
      "第4年拿了13010.23块钱\n",
      "第5年拿了13894.93块钱\n",
      "第6年拿了14839.78块钱\n",
      "第7年拿了15848.89块钱\n",
      "第8年拿了16926.61块钱\n",
      "第9年拿了18077.62块钱\n",
      "第10年拿了19306.90块钱\n",
      "第11年拿了20619.77块钱\n",
      "奶奶的，用了10来年翻了一倍，物价涨了4倍！\n"
     ]
    }
   ],
   "source": [
    "#练习，打印出当年利率是6.8%时，本钱10000元翻倍的年数\n",
    "#当本钱翻倍时，打印庆贺一下\n",
    "benqian = 10000\n",
    "year = 0\n",
    "while benqian < 20000:\n",
    "    benqian = benqian * (1+0.068)\n",
    "    year += 1\n",
    "    print(\"第{0}年拿了{1:.2f}块钱\".format(year,benqian))\n",
    "else:\n",
    "    print(\"奶奶的，用了10来年翻了一倍，物价涨了4倍！\")"
   ]
  },
  {
   "cell_type": "markdown",
   "metadata": {},
   "source": [
    "# 函数 (function)\n",
    "- 一个函数一般完成一项特定的功能\n",
    "- 函数的使用：\n",
    "    - 需要先定义\n",
    "    - 定义函数使用 def，后面跟要定义的函数的名称，命名规则使用大驼峰\n",
    "    - 函数名称后面的冒号(:)不能省略，括号里面的参数时可选的\n",
    "    - 函数内的所有代码缩进"
   ]
  },
  {
   "cell_type": "code",
   "execution_count": 4,
   "metadata": {},
   "outputs": [
    {
     "name": "stdout",
     "output_type": "stream",
     "text": [
      "这是一个函数\n",
      "可以完成一定的功能\n",
      "函数结束\n"
     ]
    }
   ],
   "source": [
    "#定义一个函数\n",
    "def func1():\n",
    "    print(\"这是一个函数\")\n",
    "    print(\"可以完成一定的功能\")\n",
    "    print(\"函数结束\")\n",
    "#调用一个函数\n",
    "func1()"
   ]
  },
  {
   "cell_type": "markdown",
   "metadata": {},
   "source": [
    "## 函数的参数和返回值\n",
    "- 参数：负责给函数传递一些必要的数据或信息\n",
    "    - 形参：函数定义的时候使用到的参数，没有具体的赋值，只是个占位符，叫做形式参数\n",
    "    - 实参：函数调用的时候实际赋予的值\n",
    "- 返回值：函数的执行的结果\n",
    "    - 使用return\n",
    "    - 如果没有定义return，默认返回None\n",
    "    - 函数一旦执行，return就会无条件返回，并结束函数的执行，如果return后面还是有语句，则不再执行。\n"
   ]
  },
  {
   "cell_type": "code",
   "execution_count": 5,
   "metadata": {},
   "outputs": [
    {
     "name": "stdout",
     "output_type": "stream",
     "text": [
      "Hi wangmeili,nice to meet you!\n",
      "Nice to meet you too!\n"
     ]
    }
   ],
   "source": [
    "# 参数的定义何使用\n",
    "# 括号的参数叫形式参数，代表的是在函数调用的时候的某一个数据\n",
    "# 函数的调用的时候，赋给函数的值，叫实参\n",
    "# 如果函数定义时，指定了形参，则在函数调用时，必须给函数赋一个实参\n",
    "\n",
    "def SayHello(person):\n",
    "    print(\"Hi {0},nice to meet you!\".format(person))\n",
    "    print('Nice to meet you too!')\n",
    "\n",
    "SayHello('wangmeili')"
   ]
  },
  {
   "cell_type": "code",
   "execution_count": 8,
   "metadata": {},
   "outputs": [
    {
     "name": "stdout",
     "output_type": "stream",
     "text": [
      "Hi wangmeili,nice to meet you!\n",
      "你这是肿么啦，为哈不搭理我？\n",
      "\n",
      "我已经给wangmeili打过招呼了，但是wangmeili不搭理我\n"
     ]
    }
   ],
   "source": [
    "# return的基本使用\n",
    "# 使函数调用执行后，返回一个值\n",
    "\n",
    "def SayHello(person):\n",
    "    print(\"Hi {0},nice to meet you!\".format(person))\n",
    "    print(\"你这是肿么啦，为哈不搭理我？\")\n",
    "    \n",
    "    return \"我已经给{0}打过招呼了，但是{0}不搭理我\".format(person,person)\n",
    "# 将函数的返回值保存到一个变量中\n",
    "result = SayHello('wangmeili')\n",
    "print()\n",
    "# 将返回值打印出来\n",
    "print(result)"
   ]
  },
  {
   "cell_type": "markdown",
   "metadata": {},
   "source": [
    "## 参数详解\n",
    "- [参考资料]：https://www.cnblogs.com/bingabcd/p/6671368.html\n",
    "- Python参考资料：headfirst python\n",
    "- 参数分类：\n",
    "    - 普通参数\n",
    "    - 默认参数\n",
    "    - 关键字参数\n",
    "    - 收集参数\n",
    "\n",
    "### 普通参数\n",
    "- 也叫位置参数\n",
    "- 定义的时候直接给定参数的名称\n",
    "- 抵用的时候直接把变量赋值或值放入指定位置\n",
    "\n",
    "        def func_name(parameter1,parameter2,...):\n",
    "            function_body\n",
    "        #调用\n",
    "        func_name(value1,value2,...)\n",
    "        #调用的时候参考的是参数的位置，按位置进行赋值\n",
    "        "
   ]
  },
  {
   "cell_type": "markdown",
   "metadata": {},
   "source": [
    "### 默认参数\n",
    "- 指形式参数在定义的时候给定默认值\n",
    "- 如果函数的参数中还包含了位置参数，则把位置参数放在前面\n",
    "- 在调用的时候，如果没有对该形参赋值，则使用默认值\n",
    "\n",
    "        def func_name(parameter,parameter1=v1,parameter2=v2,...):\n",
    "            function_body\n",
    "        #调用\n",
    "        func_name(value1) #值给位置参数赋值\n",
    "        func_name(value1,v3,v4) #同时给位置参数和默认参数赋值"
   ]
  },
  {
   "cell_type": "code",
   "execution_count": 19,
   "metadata": {},
   "outputs": [],
   "source": [
    "# 使用默认参数\n",
    "# 打印学Python的学院，学员的性别默认是男\n",
    "\n",
    "def Student(name,age,gender='male'):\n",
    "    if gender == 'male':\n",
    "        print(\"{0}is {1} years old, and he is a good student.\".format(name,age))\n",
    "    else:\n",
    "        print(\"{0}is {1} years old, and she is a good student.\".format(name,age))\n",
    "    "
   ]
  },
  {
   "cell_type": "code",
   "execution_count": 20,
   "metadata": {},
   "outputs": [
    {
     "name": "stdout",
     "output_type": "stream",
     "text": [
      "WangXiaoliis 20 years old, and she is a good student.\n",
      "ZhangDayongis 22 years old, and he is a good student.\n"
     ]
    }
   ],
   "source": [
    "# 调用上述函数Student\n",
    "\n",
    "Student('WangXiaoli',20,'female')\n",
    "\n",
    "Student('ZhangDayong',22)"
   ]
  },
  {
   "cell_type": "markdown",
   "metadata": {},
   "source": [
    "## 关键字参数\n",
    "- 类似默认参数，调用的时候，使用'键-值'的形式，在调用时，可以不考虑参数的位置\n",
    "- 语法结构\n",
    "\n",
    "        def func_name(p1=v1,p2=v2,...):\n",
    "            function_body\n",
    "        调用：\n",
    "            func_name(p1=value1,p2=value2,...)\n",
    "- 普通的参数一般按照位置类进行传递，容易出错"
   ]
  },
  {
   "cell_type": "code",
   "execution_count": 6,
   "metadata": {},
   "outputs": [
    {
     "name": "stdout",
     "output_type": "stream",
     "text": [
      "I am a student.\n",
      "My name is WangMeili, and I am 23 years old, I come from China.\n",
      "I am a student.\n",
      "My name is TOM, and I am 20 years old, I come from No addr.\n"
     ]
    }
   ],
   "source": [
    "# 使用关键字参数\n",
    "\n",
    "def func_name(name='TOM',age=20,addr='No addr'):\n",
    "    print('I am a student.')\n",
    "    print(\"My name is {0}, and I am {1} years old, I come from {2}.\".format(name,age,addr))\n",
    "    \n",
    "# 调用\n",
    "# 关键字参数调用时，参数的位置是不重要的\n",
    "func_name(name='WangMeili',addr='China',age=23)\n",
    "# 关键字参数也属于特殊的默认参数\n",
    "func_name()"
   ]
  },
  {
   "cell_type": "code",
   "execution_count": 13,
   "metadata": {},
   "outputs": [
    {
     "ename": "SyntaxError",
     "evalue": "non-default argument follows default argument (<ipython-input-13-0663557d1e59>, line 5)",
     "output_type": "error",
     "traceback": [
      "\u001b[1;36m  File \u001b[1;32m\"<ipython-input-13-0663557d1e59>\"\u001b[1;36m, line \u001b[1;32m5\u001b[0m\n\u001b[1;33m    def func_name(name='TOM',age,addr='No addr'):\u001b[0m\n\u001b[1;37m                 ^\u001b[0m\n\u001b[1;31mSyntaxError\u001b[0m\u001b[1;31m:\u001b[0m non-default argument follows default argument\n"
     ]
    }
   ],
   "source": [
    "# 同普通参数的混用\n",
    "# 如果关键字参数函数中还有普通的位置参数，则在函数定义时，需要把普通参数放在前面\n",
    "# 调用的时候，普通参数，也必须放在前面\n",
    "# 否者就会报下面的定义错误\n",
    "def func_name(name='TOM',age,addr='No addr'):\n",
    "    print('I am a student.')\n",
    "    print(\"My name is {0}, and I am {1} years old, I come from {2}.\".format(name,age,addr))\n",
    "    \n",
    "#\n",
    "# func_name(age=22,name='JACK')"
   ]
  },
  {
   "cell_type": "code",
   "execution_count": 16,
   "metadata": {},
   "outputs": [
    {
     "ename": "IndentationError",
     "evalue": "unindent does not match any outer indentation level (<ipython-input-16-e8faf29fa701>, line 7)",
     "output_type": "error",
     "traceback": [
      "\u001b[1;36m  File \u001b[1;32m\"<ipython-input-16-e8faf29fa701>\"\u001b[1;36m, line \u001b[1;32m7\u001b[0m\n\u001b[1;33m    func_name(age=22,'JACK',addr='China')\u001b[0m\n\u001b[1;37m                                         ^\u001b[0m\n\u001b[1;31mIndentationError\u001b[0m\u001b[1;31m:\u001b[0m unindent does not match any outer indentation level\n"
     ]
    }
   ],
   "source": [
    "# 调用错误\n",
    "# 强调位置参数必须放在前面\n",
    "def func_name(name,age=20,addr='No addr'):\n",
    "    print('I am a student.')\n",
    "    print(\"My name is {0}, and I am {1} years old, I come from {2}.\".format(name,age,addr))\n",
    " \n",
    "# 错误的调用方法\n",
    " func_name(age=22,'JACK',addr='China')"
   ]
  },
  {
   "cell_type": "markdown",
   "metadata": {},
   "source": [
    "## 收集参数\n",
    "- 把没有位置，不能和定义时的参数位置相对应的参数，放入到一个特定的数据结构中\n",
    "- 语法结构\n",
    "    \n",
    "        def func_name(*args):\n",
    "            function_body\n",
    "         按照list的使用方法防卫args，得到传入的参数\n",
    " \n",
    "         调用：\n",
    "             func_name(p1,p2,p3,...)\n",
    "- 参数名args是是约定俗称的写法，前面必须加*\n",
    "- 收集参数可以和其他参数共存"
   ]
  },
  {
   "cell_type": "code",
   "execution_count": 18,
   "metadata": {},
   "outputs": [
    {
     "name": "stdout",
     "output_type": "stream",
     "text": [
      "Hello everyone,下面我自我介绍以下： \n",
      "<class 'tuple'>\n",
      "WangMeili\n",
      "18\n",
      "江苏南京\n",
      "single\n",
      "Hello everyone,下面我自我介绍以下： \n",
      "<class 'tuple'>\n",
      "王大神\n"
     ]
    }
   ],
   "source": [
    "# 使用收集参数\n",
    "# 函数模拟学生的自我介绍，介绍的内容不确定\n",
    "# args可一看作是一个列表或元组tuple\n",
    "\n",
    "def InstroStu(*args):\n",
    "    print('Hello everyone,下面我自我介绍以下： ')\n",
    "    print(type(args))\n",
    "    for params in args:\n",
    "        print(params)\n",
    "        \n",
    "# 调用\n",
    "# 相当于把提供的实参，装入到args中\n",
    "InstroStu('WangMeili',18,'江苏南京','single')\n",
    "InstroStu('王大神')"
   ]
  },
  {
   "cell_type": "code",
   "execution_count": 19,
   "metadata": {},
   "outputs": [
    {
     "name": "stdout",
     "output_type": "stream",
     "text": [
      "Hello everyone,下面我自我介绍以下： \n",
      "<class 'tuple'>\n"
     ]
    }
   ],
   "source": [
    "# 收集参数可以不带任何实参调用，此刻收集参数为空\n",
    "InstroStu()"
   ]
  },
  {
   "cell_type": "markdown",
   "metadata": {},
   "source": [
    "### 收集参数之关键字收集参数\n",
    "- 把关键字参数，按字典的形式存入收集参数\n",
    "- 语法结构\n",
    "\n",
    "        def func_name( **kwargs):\n",
    "            function_body\n",
    "            \n",
    "        调用：\n",
    "            func_name(p1=v1,p2=v2,...)\n",
    "            \n",
    "- 调用的时候，把多余的关键字参数放入kwargs\n",
    "- 访问kwargs，按照字典的形式"
   ]
  },
  {
   "cell_type": "code",
   "execution_count": 21,
   "metadata": {},
   "outputs": [
    {
     "name": "stdout",
     "output_type": "stream",
     "text": [
      "Hello everyone,下面我自我介绍以下： \n",
      "<class 'dict'>\n",
      "name ---> wangmeili\n",
      "age ---> 19\n",
      "add ---> 江苏南京\n",
      "lover ---> Gavin\n",
      "work ---> Teacher\n",
      "******************************\n",
      "Hello everyone,下面我自我介绍以下： \n",
      "<class 'dict'>\n",
      "name ---> 王大神\n",
      "******************************\n",
      "Hello everyone,下面我自我介绍以下： \n",
      "<class 'dict'>\n"
     ]
    }
   ],
   "source": [
    "# 关键字收集参数\n",
    "# 自我介绍\n",
    "\n",
    "def Stu(**kwargs):\n",
    "    print('Hello everyone,下面我自我介绍以下： ')\n",
    "    print(type(kwargs))\n",
    "    # 对于字典的访问\n",
    "    for key,value in kwargs.items():\n",
    "        print(key,'--->',value)\n",
    "        \n",
    "# 调用\n",
    "Stu(name='wangmeili',age=19,add='江苏南京',lover='Gavin',work='Teacher')\n",
    "\n",
    "print('*' * 30)\n",
    "\n",
    "Stu(name='王大神')\n",
    "\n",
    "print('*' * 30)\n",
    "\n",
    "Stu()"
   ]
  },
  {
   "cell_type": "markdown",
   "metadata": {},
   "source": [
    "## 4种参数的混合调用\n",
    "- 定义规则和调用规则是：\n",
    "    - 位置参数，默认参数，收集参数tuple,关键字参数，收集参数dict\n",
    "    - 说明，默认参数、关键字参数和*args位置可以互换，如果*args在前，则后面的参数除**kwargs外，都会变成关键字参数，如果要修改参数的默认值，同关键字参数\n",
    "        - 如果*args在后，则前面的初位置参数外，都变成默认参数，如果需要修改默认值，同默认参数\n",
    "    - 调用规则等同于定义规则\n",
    "    - 详细使用方法见99"
   ]
  },
  {
   "cell_type": "code",
   "execution_count": 57,
   "metadata": {},
   "outputs": [
    {
     "name": "stdout",
     "output_type": "stream",
     "text": [
      "Hello,大家好！\n",
      "我叫猪上树,我今年22岁，我来自江苏南京\n",
      "我的爱好是桌球,有兴趣大家可以一起玩呀！\n",
      "------------------------------\n",
      "足球\n",
      "篮球\n",
      "------------------------------\n",
      "lover ---> 王美丽\n",
      "hate ---> 张大熊\n",
      "******************************\n",
      "Hello,大家好！\n",
      "我叫张大熊,我今年25岁，我来自三江学院\n",
      "我目前没有啥特别的喜好\n",
      "------------------------------\n",
      "但是我是一个环保爱好者\n",
      "也是一名公益事业爱好者\n",
      "------------------------------\n",
      "******************************\n"
     ]
    }
   ],
   "source": [
    "# 混合参数使用案例\n",
    "# 学生自我介绍\n",
    "\n",
    "def Student(name,age=20,*args,addr='No addr',hobby='None',**kwargs):\n",
    "    print('Hello,大家好！')\n",
    "    print(\"我叫{0},我今年{1}岁，我来自{2}\".format(name,age,addr))\n",
    "    \n",
    "    if hobby == 'None':\n",
    "        print('我目前没有啥特别的喜好')\n",
    "    else:\n",
    "        print(\"我的爱好是{0},有兴趣大家可以一起玩呀！\".format(hobby))\n",
    "        \n",
    "    print('-' * 30)\n",
    "    for i in args:\n",
    "        print(i)\n",
    "    print('-' * 30)    \n",
    "    for k,v in kwargs.items():\n",
    "        print(k,'--->',v)\n",
    "    print('*' * 30)\n",
    "        \n",
    "        \n",
    "# 调用\n",
    "Student('猪上树',22,'足球','篮球',addr='江苏南京',hobby='桌球',lover='王美丽',hate='张大熊')\n",
    "Student('张大熊',25,'但是我是一个环保爱好者','也是一名公益事业爱好者',addr='三江学院')"
   ]
  },
  {
   "cell_type": "markdown",
   "metadata": {},
   "source": [
    "### 收集参数的解包问题\n",
    "- 在调用的时候，直接把list或dict作为实参进行调用，\n",
    "- 在*args 的调用时，传入list，此时会把整个list转化为tuple的一个元素"
   ]
  },
  {
   "cell_type": "code",
   "execution_count": 63,
   "metadata": {},
   "outputs": [
    {
     "name": "stdout",
     "output_type": "stream",
     "text": [
      "hahahhahahha\n",
      "<class 'list'>\n",
      "['wangmeili', 22, 'shanghai']\n",
      "---------------\n",
      "hahahhahahha\n",
      "<class 'str'>\n",
      "wangmeili\n",
      "<class 'int'>\n",
      "22\n",
      "<class 'str'>\n",
      "shanghai\n"
     ]
    }
   ],
   "source": [
    "# 调用list到 *args\n",
    "# \n",
    "def Stu1(*args):\n",
    "    print('hahahhahahha')\n",
    "    for i in args:\n",
    "        print(type(i))\n",
    "        print(i)\n",
    "        \n",
    "l = ['wangmeili',22,'shanghai']\n",
    "# 这种调用方式，直接将整个list打印出来\n",
    "Stu1(l)\n",
    "print('---------------')\n",
    "# 如果要将list中的每个元素都打印出来，就需要解包\n",
    "Stu1(*l)"
   ]
  },
  {
   "cell_type": "code",
   "execution_count": 82,
   "metadata": {
    "scrolled": true
   },
   "outputs": [
    {
     "name": "stdout",
     "output_type": "stream",
     "text": [
      "hahahhahahha\n",
      "name >>> wangmeili\n",
      "age >>> 22\n",
      "addr >>> shanghai\n",
      "-------------\n"
     ]
    },
    {
     "ename": "TypeError",
     "evalue": "Stu2() takes 0 positional arguments but 1 was given",
     "output_type": "error",
     "traceback": [
      "\u001b[1;31m---------------------------------------------------------------------------\u001b[0m",
      "\u001b[1;31mTypeError\u001b[0m                                 Traceback (most recent call last)",
      "\u001b[1;32m<ipython-input-82-09f0a7d3879b>\u001b[0m in \u001b[0;36m<module>\u001b[1;34m()\u001b[0m\n\u001b[0;32m     13\u001b[0m \u001b[1;33m\u001b[0m\u001b[0m\n\u001b[0;32m     14\u001b[0m \u001b[1;31m# 不解包传参\u001b[0m\u001b[1;33m\u001b[0m\u001b[1;33m\u001b[0m\u001b[0m\n\u001b[1;32m---> 15\u001b[1;33m \u001b[0mStu2\u001b[0m\u001b[1;33m(\u001b[0m\u001b[0md\u001b[0m\u001b[1;33m)\u001b[0m\u001b[1;33m\u001b[0m\u001b[0m\n\u001b[0m",
      "\u001b[1;31mTypeError\u001b[0m: Stu2() takes 0 positional arguments but 1 was given"
     ]
    }
   ],
   "source": [
    "# 调用dict到 **args\n",
    "def Stu2(**kwargs): \n",
    "        print('hahahhahahha')\n",
    "        for k,v in kwargs.items():\n",
    "            #print(type(k))\n",
    "            #print(type(v))\n",
    "            print(k,'>>>',v)\n",
    "        \n",
    "d = {'name':'wangmeili','age':'22','addr':'shanghai'}\n",
    "# 此时若要将字典当作实参传递给kwargs，就必须先进性解包\n",
    "Stu2(**d)\n",
    "print('-------------')\n",
    "\n",
    "# 不解包传参\n",
    "Stu2(d)\n",
    "# 不解包传参，函数会把传入的字典名称d，当作一个位置参数"
   ]
  },
  {
   "cell_type": "markdown",
   "metadata": {},
   "source": [
    "### 返回值\n",
    "- 函数和过程的取别\n",
    "    - 有无返回值\n",
    "- 需要使用return显示地返回内容\n",
    "- 如果没有使用return，默认返回None\n",
    "- 推荐写法，有无返回值，都建议以特return结束"
   ]
  },
  {
   "cell_type": "code",
   "execution_count": 84,
   "metadata": {},
   "outputs": [
    {
     "name": "stdout",
     "output_type": "stream",
     "text": [
      "you\n",
      "1\n",
      "---------\n",
      "mei\n",
      "None\n"
     ]
    }
   ],
   "source": [
    "# 返回值示例\n",
    "def fun1():\n",
    "    print('you')\n",
    "    return 1\n",
    "def fun2():\n",
    "    print('mei')\n",
    "    \n",
    "f1 = fun1()\n",
    "print(f1)\n",
    "print('---------')\n",
    "f2 = fun2()\n",
    "print(f2)"
   ]
  },
  {
   "cell_type": "markdown",
   "metadata": {},
   "source": [
    "## 函数的帮助文档\n",
    "- 主要是对函数功能的说明\n",
    "- 文档的写法\n",
    "    - 在函数的内部，使用三单引号定义\n",
    "    - 一般都有特定的格式\n",
    "- 文档的查看\n",
    "    - 使用help()函数，help(func_name)\n",
    "    - 或者func_name.__doc__(doc双侧双下划线)"
   ]
  },
  {
   "cell_type": "code",
   "execution_count": 90,
   "metadata": {},
   "outputs": [],
   "source": [
    "# 文档案例\n",
    "def func_stu(name,age,gender='male'):\n",
    "    '''\n",
    "    这里是的函数func_stu的文档说明，\n",
    "    :param name:学生的姓名\n",
    "    :param age:学生的年龄\n",
    "    :param gender:苏俄省的性别，默认为男\n",
    "    :return:没有返回值\n",
    "    '''\n",
    "    print(\"我的名字是{0},我今年{1}岁\".format(name,age))"
   ]
  },
  {
   "cell_type": "code",
   "execution_count": 91,
   "metadata": {},
   "outputs": [
    {
     "name": "stdout",
     "output_type": "stream",
     "text": [
      "Help on function func_stu in module __main__:\n",
      "\n",
      "func_stu(name, age, gender='male')\n",
      "    这里是的函数func_stu的文档说明，\n",
      "    :param name:学生的姓名\n",
      "    :param age:学生的年龄\n",
      "    :param gender:苏俄省的性别，默认为男\n",
      "    :return:没有返回值\n",
      "\n"
     ]
    }
   ],
   "source": [
    "help(func_stu)"
   ]
  },
  {
   "cell_type": "code",
   "execution_count": 92,
   "metadata": {},
   "outputs": [
    {
     "name": "stdout",
     "output_type": "stream",
     "text": [
      "\n",
      "    这里是的函数func_stu的文档说明，\n",
      "    :param name:学生的姓名\n",
      "    :param age:学生的年龄\n",
      "    :param gender:苏俄省的性别，默认为男\n",
      "    :return:没有返回值\n",
      "    \n"
     ]
    }
   ],
   "source": [
    "print(func_stu.__doc__)"
   ]
  },
  {
   "cell_type": "code",
   "execution_count": 99,
   "metadata": {},
   "outputs": [
    {
     "name": "stdout",
     "output_type": "stream",
     "text": [
      "args =  (1, 2, 3, 4)\n",
      "kwargs =  {}\n",
      "--------------\n",
      "args =  ()\n",
      "kwargs =  {'a': 1, 'b': 2, 'c': 3}\n",
      "--------------\n",
      "args =  (1, 2, 3, 4)\n",
      "kwargs =  {'a': 1, 'b': 2, 'c': 3}\n",
      "--------------\n",
      "args =  ('a', None, 3)\n",
      "kwargs =  {'a': 'qq', 'b': 2, 'c': 9}\n",
      "--------------\n"
     ]
    }
   ],
   "source": [
    "# 两个是Python中的可变参数。*args 表示任何多个无名参数，它是一个tuple；\n",
    "# **kwargs 表示关键字参数，它是一个dict。\n",
    "# 并且同时使用*args和**kwargs时，必须*args参数列要在**kwargs前\n",
    "def foo(*args,**kwargs):\n",
    "    print('args = ',args)\n",
    "    print('kwargs = ',kwargs)\n",
    "    print('--------------')\n",
    "\n",
    "foo(1,2,3,4)\n",
    "foo(a=1,b=2,c=3)\n",
    "foo(1,2,3,4,a=1,b=2,c=3)\n",
    "foo('a',None,3,a='qq',b=2,c=9)"
   ]
  },
  {
   "cell_type": "code",
   "execution_count": 103,
   "metadata": {},
   "outputs": [
    {
     "name": "stdout",
     "output_type": "stream",
     "text": [
      "{'a': 1, 'b': 2, 'c': 3, 'name': 'jack'}\n"
     ]
    }
   ],
   "source": [
    "# 使用**args 创建一个字典\n",
    "def gen_dict(**kwargs):\n",
    "    return kwargs\n",
    "dict1 = gen_dict(a=1,b=2,c=3,name='jack')\n",
    "print(dict1)"
   ]
  },
  {
   "cell_type": "code",
   "execution_count": 96,
   "metadata": {},
   "outputs": [
    {
     "name": "stdout",
     "output_type": "stream",
     "text": [
      "1\n",
      "(2, 3, 4, 5, 6, 7, 'a', 'aa', 'scd')\n"
     ]
    }
   ],
   "source": [
    "# 将一串字符转变为一个元组tuple\n",
    "def aas(x,*args):\n",
    "    print(x)\n",
    "    print(args)\n",
    "    \n",
    "aas(1,2,3,4,5,6,7,'a','aa','scd')"
   ]
  },
  {
   "cell_type": "code",
   "execution_count": 107,
   "metadata": {},
   "outputs": [
    {
     "name": "stdout",
     "output_type": "stream",
     "text": [
      "x =  1\n",
      "args =  (2, 3, 4, 5, 'a', 'c', 'jj')\n",
      "y =  2\n"
     ]
    },
    {
     "data": {
      "text/plain": [
       "(2, 3, 4, 5, 'a', 'c', 'jj')"
      ]
     },
     "execution_count": 107,
     "metadata": {},
     "output_type": "execute_result"
    }
   ],
   "source": [
    "#* args与位置参数和默认参数混用:*args要放到位置参数后面，默认参数要放最后。\n",
    "def qqw(x,*args,y=1):\n",
    "    print('x = ',x)\n",
    "    print('args = ',args)\n",
    "    print('y = ',y)\n",
    "    return args\n",
    "qqw(1,2,3,4,5,'a','c','jj',y=2)"
   ]
  },
  {
   "cell_type": "code",
   "execution_count": 126,
   "metadata": {},
   "outputs": [],
   "source": [
    "# 此处定义的参数b 是个关键字参数，调用时，如果要修改其值，则需要单独指定b=???\n",
    "def hhh(a,*args,b=4,**kwargs):\n",
    "    print(a)\n",
    "    print(args)\n",
    "    print(b)\n",
    "    print(kwargs)\n",
    "    return 0\n"
   ]
  },
  {
   "cell_type": "code",
   "execution_count": 128,
   "metadata": {},
   "outputs": [
    {
     "name": "stdout",
     "output_type": "stream",
     "text": [
      "5\n",
      "(5, 4, 2, 2, 'a', 'apple')\n",
      "99\n",
      "{'c': 1, 'd': 2, 'e': 3}\n"
     ]
    },
    {
     "data": {
      "text/plain": [
       "0"
      ]
     },
     "execution_count": 128,
     "metadata": {},
     "output_type": "execute_result"
    }
   ],
   "source": [
    "hhh(5,5,4,2,2,'a','apple',b=99,c=1,d=2,e=3)"
   ]
  },
  {
   "cell_type": "code",
   "execution_count": 115,
   "metadata": {},
   "outputs": [],
   "source": [
    "# 此处定义的参数b 是个默认参数，调用时，如果要修改其值，同默认参数一样\n",
    "def jjj(a,b=4,*args,**kwargs):\n",
    "    print(a)\n",
    "    print(args)\n",
    "    print(b)\n",
    "    print(kwargs)\n",
    "    return 0\n"
   ]
  },
  {
   "cell_type": "code",
   "execution_count": 129,
   "metadata": {},
   "outputs": [
    {
     "name": "stdout",
     "output_type": "stream",
     "text": [
      "5\n",
      "(4, 2, 2, 'a', 'apple')\n",
      "21\n",
      "{'c': 1, 'd': 2, 'e': 3}\n"
     ]
    },
    {
     "data": {
      "text/plain": [
       "0"
      ]
     },
     "execution_count": 129,
     "metadata": {},
     "output_type": "execute_result"
    }
   ],
   "source": [
    "jjj(5,21,4,2,2,'a','apple',c=1,d=2,e=3)"
   ]
  },
  {
   "cell_type": "code",
   "execution_count": 124,
   "metadata": {},
   "outputs": [],
   "source": [
    "# 57行函数可以改写为如下，将*args位置提前\n",
    "def Student1(name,*args,age=20,addr='No addr',hobby='None',**kwargs):\n",
    "    print('Hello,大家好！')\n",
    "    print(\"我叫{0},我今年{1}岁，我来自{2}\".format(name,age,addr))\n",
    "    \n",
    "    if hobby == 'None':\n",
    "        print('我目前没有啥特别的喜好')\n",
    "    else:\n",
    "        print(\"我的爱好是{0},有兴趣大家可以一起玩呀！\".format(hobby))\n",
    "        \n",
    "    print('-' * 30)\n",
    "    for i in args:\n",
    "        print(i)\n",
    "    print('-' * 30)    \n",
    "    for k,v in kwargs.items():\n",
    "        print(k,'--->',v)\n",
    "    print('*' * 30)"
   ]
  },
  {
   "cell_type": "code",
   "execution_count": 125,
   "metadata": {},
   "outputs": [
    {
     "name": "stdout",
     "output_type": "stream",
     "text": [
      "Hello,大家好！\n",
      "我叫大熊,我今年22岁，我来自No addr\n",
      "我的爱好是篮球,有兴趣大家可以一起玩呀！\n",
      "------------------------------\n",
      "1\n",
      "3\n",
      "4\n",
      "5\n",
      "------------------------------\n",
      "x ---> 1\n",
      "y ---> 2\n",
      "z ---> 3\n",
      "******************************\n"
     ]
    }
   ],
   "source": [
    "Student1('大熊',1,3,4,5,age=22,hobby='篮球',x=1,y=2,z=3)"
   ]
  },
  {
   "cell_type": "code",
   "execution_count": null,
   "metadata": {},
   "outputs": [],
   "source": []
  },
  {
   "cell_type": "code",
   "execution_count": null,
   "metadata": {},
   "outputs": [],
   "source": []
  }
 ],
 "metadata": {
  "kernelspec": {
   "display_name": "Python 3",
   "language": "python",
   "name": "python3"
  },
  "language_info": {
   "codemirror_mode": {
    "name": "ipython",
    "version": 3
   },
   "file_extension": ".py",
   "mimetype": "text/x-python",
   "name": "python",
   "nbconvert_exporter": "python",
   "pygments_lexer": "ipython3",
   "version": "3.6.5"
  }
 },
 "nbformat": 4,
 "nbformat_minor": 2
}
