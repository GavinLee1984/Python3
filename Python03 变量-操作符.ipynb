{
 "cells": [
  {
   "cell_type": "markdown",
   "metadata": {},
   "source": [
    "## 转义字符\n",
    "- 转义字符、格式化\n",
    "    - 用一个特殊的方法表示一系列不方便写出，或者特殊含义的内容，比如回车、换行、退格\n",
    "    - 借助反斜线 \\ 进行转义"
   ]
  },
  {
   "cell_type": "code",
   "execution_count": 2,
   "metadata": {},
   "outputs": [
    {
     "name": "stdout",
     "output_type": "stream",
     "text": [
      "Let's go\n",
      "Let's go\n"
     ]
    }
   ],
   "source": [
    "#打印出字符串 Let's go\n",
    "#1，可以hi用嵌套引号方法\n",
    "var = \"Let's go\"\n",
    "print(var)\n",
    "#2,使用转义符\n",
    "var1 = 'Let\\'s go'\n",
    "print(var1)"
   ]
  },
  {
   "cell_type": "code",
   "execution_count": 4,
   "metadata": {},
   "outputs": [
    {
     "name": "stdout",
     "output_type": "stream",
     "text": [
      "C:\\USER\\Gavin\n"
     ]
    }
   ],
   "source": [
    "#想打印出反斜线 ，打印一个Windows目录\n",
    "#两个反斜线\\\\ = \\\n",
    "var2 = \"C:\\\\USER\\Gavin\"\n",
    "print(var2)"
   ]
  },
  {
   "cell_type": "markdown",
   "metadata": {},
   "source": [
    "### 转义字符注意事项\n",
    "- 在字符串中出现了反斜线\\， 需要谨慎处理可能是转义字符\n",
    "- 不同操作系统针对一些操作符的处理\n",
    "    - Windows：\\n\n",
    "    - Linux: \\n,\\r,\\t"
   ]
  },
  {
   "cell_type": "code",
   "execution_count": null,
   "metadata": {},
   "outputs": [],
   "source": []
  },
  {
   "cell_type": "code",
   "execution_count": 14,
   "metadata": {},
   "outputs": [
    {
     "name": "stdout",
     "output_type": "stream",
     "text": [
      "I\r",
      "love\n",
      "wang\r\n",
      "mei\tli\n"
     ]
    }
   ],
   "source": [
    "#使用特殊操作符\n",
    "var3 = \"I\\rlove\\nwang\\r\\nmei\\tli\"\n",
    "print(var3)"
   ]
  },
  {
   "cell_type": "markdown",
   "metadata": {},
   "source": [
    "## 字符串的格式化\n",
    "- 把字符串按照一定格式打印\n",
    "- 格式化方法\n",
    "    - 利用%\n",
    "        - 在字符串中，%表示一个特殊含义，表示对字符进行格式化\n",
    "        - %d：表示此处放入一个整数\n",
    "        - %s：表示此处放入一个字符串\n"
   ]
  },
  {
   "cell_type": "code",
   "execution_count": 15,
   "metadata": {},
   "outputs": [
    {
     "name": "stdout",
     "output_type": "stream",
     "text": [
      "I love %s\n",
      "I love wangxiaoli\n",
      "I love wangxiaoli\n"
     ]
    }
   ],
   "source": [
    "#如何使用%s\n",
    "#打印出 I love wangxiaoli\n",
    "var4 = 'I love %s'\n",
    "#不能使用如下直接打印,它会将字符的定义打印出来\n",
    "print(var4)\n",
    "#应使用如下两种方法\n",
    "print('I love %s'%'wangxiaoli')\n",
    "#或者\n",
    "print(var4%'wangxiaoli')"
   ]
  },
  {
   "cell_type": "code",
   "execution_count": 16,
   "metadata": {},
   "outputs": [
    {
     "name": "stdout",
     "output_type": "stream",
     "text": [
      "I am 18 years old now\n"
     ]
    }
   ],
   "source": [
    "# 使用%d\n",
    "age = 'I am %d years old now'\n",
    "#打印出我今年18岁\n",
    "print(age%18)"
   ]
  },
  {
   "cell_type": "code",
   "execution_count": 17,
   "metadata": {},
   "outputs": [
    {
     "name": "stdout",
     "output_type": "stream",
     "text": [
      "I am 18 years old, and I love wangxiaoli\n"
     ]
    }
   ],
   "source": [
    "#其他的使用方法\n",
    "var5 = 'I am %d years old, and I love %s'\n",
    "#如果要打印var5的字符串变量，则必须使用两个占位符\n",
    "print(var5%(18,'wangxiaoli'))\n",
    "#如果出现了多个需要打印的格式化符，则多个格式化符使用()"
   ]
  },
  {
   "cell_type": "markdown",
   "metadata": {},
   "source": [
    "### 使用format()函数进行格式化的打印\n",
    "- 使用 {} 和冒号 : ，后面接上format参数\n",
    "- 字串使用双引号"
   ]
  },
  {
   "cell_type": "code",
   "execution_count": 18,
   "metadata": {},
   "outputs": [
    {
     "name": "stdout",
     "output_type": "stream",
     "text": [
      "I love wangxiaoli\n"
     ]
    }
   ],
   "source": [
    "#使用基本的format\n",
    "var6 = \"I love {}\".format('wangxiaoli')\n",
    "print(var6)"
   ]
  },
  {
   "cell_type": "code",
   "execution_count": 19,
   "metadata": {},
   "outputs": [
    {
     "name": "stdout",
     "output_type": "stream",
     "text": [
      "I am 18 years old, and I love wangxiaoli, she is 18 years old too\n"
     ]
    }
   ],
   "source": [
    "#使用format的位置替换符\n",
    "var7 = \"I am {1} years old, and I love {0}, she is {1} years old too\".format('wangxiaoli',18)\n",
    "print(var7)"
   ]
  },
  {
   "cell_type": "markdown",
   "metadata": {},
   "source": [
    " ## None字符类型\n",
    " - None表示什么都没有\n",
    " - 如果函数没有返回值，可以返回None\n",
    " - 用来做占位符\n",
    " - 用来解除的变量的绑定"
   ]
  },
  {
   "cell_type": "code",
   "execution_count": null,
   "metadata": {},
   "outputs": [],
   "source": []
  },
  {
   "cell_type": "code",
   "execution_count": null,
   "metadata": {},
   "outputs": [],
   "source": []
  },
  {
   "cell_type": "code",
   "execution_count": null,
   "metadata": {},
   "outputs": [],
   "source": []
  },
  {
   "cell_type": "code",
   "execution_count": null,
   "metadata": {},
   "outputs": [],
   "source": []
  },
  {
   "cell_type": "code",
   "execution_count": null,
   "metadata": {},
   "outputs": [],
   "source": []
  },
  {
   "cell_type": "code",
   "execution_count": null,
   "metadata": {},
   "outputs": [],
   "source": []
  },
  {
   "cell_type": "code",
   "execution_count": null,
   "metadata": {},
   "outputs": [],
   "source": []
  },
  {
   "cell_type": "code",
   "execution_count": null,
   "metadata": {},
   "outputs": [],
   "source": []
  },
  {
   "cell_type": "code",
   "execution_count": null,
   "metadata": {},
   "outputs": [],
   "source": []
  },
  {
   "cell_type": "code",
   "execution_count": null,
   "metadata": {},
   "outputs": [],
   "source": []
  },
  {
   "cell_type": "code",
   "execution_count": null,
   "metadata": {},
   "outputs": [],
   "source": []
  }
 ],
 "metadata": {
  "kernelspec": {
   "display_name": "Python 3",
   "language": "python",
   "name": "python3"
  },
  "language_info": {
   "codemirror_mode": {
    "name": "ipython",
    "version": 3
   },
   "file_extension": ".py",
   "mimetype": "text/x-python",
   "name": "python",
   "nbconvert_exporter": "python",
   "pygments_lexer": "ipython3",
   "version": "3.6.5"
  }
 },
 "nbformat": 4,
 "nbformat_minor": 2
}
