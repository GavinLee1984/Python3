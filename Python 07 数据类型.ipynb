{
 "cells": [
  {
   "cell_type": "markdown",
   "metadata": {},
   "source": [
    "# Python内置的数据类型结构\n",
    "- list\n",
    "- set\n",
    "- dict\n",
    "- tuple\n",
    "\n",
    "## list\n",
    "- 是Python中的主力数据类型\n",
    "- 创建使用中括号[],包含一系列以逗号分隔的值"
   ]
  },
  {
   "cell_type": "code",
   "execution_count": 2,
   "metadata": {},
   "outputs": [
    {
     "name": "stdout",
     "output_type": "stream",
     "text": [
      "[1, 2, 3, 32, 1, 4, 'a']\n"
     ]
    },
    {
     "data": {
      "text/plain": [
       "list"
      ]
     },
     "execution_count": 2,
     "metadata": {},
     "output_type": "execute_result"
    }
   ],
   "source": [
    "# 创建list\n",
    "list1 = [1,2,3,32,1,4,'a']\n",
    "print(list1)\n",
    "# 查看list1的数据类型\n",
    "type(list1)"
   ]
  },
  {
   "cell_type": "markdown",
   "metadata": {},
   "source": [
    "### 列表的常用操作\n",
    "- 列表的访问\n",
    "    - 使用下标操作，或索引\n",
    "    - 列表的索引位置从0开始"
   ]
  },
  {
   "cell_type": "code",
   "execution_count": 3,
   "metadata": {},
   "outputs": [],
   "source": [
    "list2 = [2,1,4,'a','apple',88]"
   ]
  },
  {
   "cell_type": "code",
   "execution_count": 6,
   "metadata": {},
   "outputs": [
    {
     "name": "stdout",
     "output_type": "stream",
     "text": [
      "2\n",
      "1\n",
      "apple\n"
     ]
    }
   ],
   "source": [
    "print(list2[0])\n",
    "print(list2[1])\n",
    "print(list2[4])"
   ]
  },
  {
   "cell_type": "markdown",
   "metadata": {},
   "source": [
    "### 列表的分片\n",
    "- 将列表的内容按照索引位置，进行分割，生成一个新的列表\n",
    "    - 索引位置0位置为list第一个值，向右为正，向左为负\n",
    "    - list[1,5],表示从索引位置1开始，包括索引位置1，不包括5\n",
    "    - list[3:],表示从索引位置3到末尾\n",
    "    - list[:3]，表示从索引位置0到3\n",
    "    - list[1:-1],表示从索引位置1，向右到索引位置-1\n",
    "    - 控制分片的增长幅度，默认为1"
   ]
  },
  {
   "cell_type": "code",
   "execution_count": 23,
   "metadata": {},
   "outputs": [],
   "source": [
    "list3 = [2,1,4,'a','apple',88,99,'m']"
   ]
  },
  {
   "cell_type": "code",
   "execution_count": 24,
   "metadata": {},
   "outputs": [
    {
     "name": "stdout",
     "output_type": "stream",
     "text": [
      "2\n",
      "1\n",
      "m\n"
     ]
    }
   ],
   "source": [
    "print(list3[0])\n",
    "print(list3[1])\n",
    "print(list3[-1])"
   ]
  },
  {
   "cell_type": "code",
   "execution_count": 26,
   "metadata": {},
   "outputs": [
    {
     "name": "stdout",
     "output_type": "stream",
     "text": [
      "['apple']\n",
      "[1, 4, 'a', 'apple', 88, 99]\n",
      "['a', 'apple', 88, 99, 'm']\n",
      "[2, 1, 4]\n",
      "[]\n"
     ]
    }
   ],
   "source": [
    "print(list3[4:5])\n",
    "print(list3[1:-1])\n",
    "print(list3[3:])\n",
    "print(list3[:3])\n",
    "print(list3[-1:4])"
   ]
  },
  {
   "cell_type": "code",
   "execution_count": 20,
   "metadata": {},
   "outputs": [
    {
     "name": "stdout",
     "output_type": "stream",
     "text": [
      "[1, 'a', 88]\n"
     ]
    }
   ],
   "source": [
    "# 控制增长幅度\n",
    "list4 = [2,1,4,'a','apple',88,99,'m',77]\n",
    "print(list4[1:7:2])"
   ]
  },
  {
   "cell_type": "code",
   "execution_count": 22,
   "metadata": {},
   "outputs": [
    {
     "name": "stdout",
     "output_type": "stream",
     "text": [
      "[2, 1, 4, 'a']\n"
     ]
    }
   ],
   "source": [
    "# 下标索引可以超出范围，超出范围的不再打印\n",
    "list5 = [2,1,4,'a']\n",
    "print(list5[0:5])"
   ]
  },
  {
   "cell_type": "code",
   "execution_count": 28,
   "metadata": {},
   "outputs": [
    {
     "name": "stdout",
     "output_type": "stream",
     "text": [
      "[2, 1, 4, 'a']\n",
      "[2, 1, 4, 'a']\n"
     ]
    }
   ],
   "source": [
    "# list5 = list5[:]\n",
    "print(list5)\n",
    "print(list5[:])"
   ]
  },
  {
   "cell_type": "code",
   "execution_count": 30,
   "metadata": {},
   "outputs": [],
   "source": [
    "# 列表分片，索引位置以负数开始\n",
    "list6 = [2,1,4,'a','apple',88]"
   ]
  },
  {
   "cell_type": "code",
   "execution_count": 34,
   "metadata": {},
   "outputs": [
    {
     "name": "stdout",
     "output_type": "stream",
     "text": [
      "['apple', 88]\n",
      "[4, 'a']\n",
      "[2, 1, 4, 'a']\n",
      "[]\n"
     ]
    }
   ],
   "source": [
    "print(list6[-2:])\n",
    "print(list6[-4:-2])\n",
    "print(list6[:-2])\n",
    "print(list6[-2:1])"
   ]
  },
  {
   "cell_type": "code",
   "execution_count": 13,
   "metadata": {},
   "outputs": [],
   "source": [
    "# 列表分片生成新列表的id\n",
    "# 如果两个 list的ID值一样，说明他们指向的内存地址是一样的\n",
    "# 当内存地址形同的list值发生变化后，两个list的值都会发生变化\n",
    "# 如果只是值相等，ID不相同，则说明是一个新的列表\n",
    "## 下面代码中，ll是拷贝l，lll则是l的列表分片\n",
    "l = [1,2,3,4,5,6]\n",
    "ll = l\n",
    "lll = l[:]"
   ]
  },
  {
   "cell_type": "code",
   "execution_count": 41,
   "metadata": {},
   "outputs": [
    {
     "name": "stdout",
     "output_type": "stream",
     "text": [
      "[1, 2, 3, 4, 5, 6]\n",
      "[1, 2, 3, 4, 5, 6]\n",
      "[1, 2, 3, 4, 5, 6]\n"
     ]
    }
   ],
   "source": [
    "print(l)\n",
    "print(ll)\n",
    "print(lll)"
   ]
  },
  {
   "cell_type": "code",
   "execution_count": 14,
   "metadata": {},
   "outputs": [
    {
     "name": "stdout",
     "output_type": "stream",
     "text": [
      "[1, 2, 200, 4, 5, 6]\n",
      "1722544534664\n",
      "[1, 2, 200, 4, 5, 6]\n",
      "1722544534664\n",
      "[1, 2, 300, 4, 5, 6]\n",
      "1722544535944\n"
     ]
    }
   ],
   "source": [
    "l[2] = 200\n",
    "lll[2] = 300\n",
    "print(l)\n",
    "print(id(l))\n",
    "print(ll)\n",
    "print(id(ll))\n",
    "print(lll)\n",
    "print(id(lll))"
   ]
  },
  {
   "cell_type": "code",
   "execution_count": 11,
   "metadata": {
    "scrolled": true
   },
   "outputs": [
    {
     "name": "stdout",
     "output_type": "stream",
     "text": [
      "[1, 2, 3, 4, 5]\n",
      "1722544591240\n",
      "[1, 2, 3, 4, 5]\n",
      "1722544591240\n",
      "[1, 2, 3, 4, 5]\n",
      "1722544591176\n",
      "--------------------\n",
      "[1, 2, 2000, 4, 5]\n",
      "1722544591240\n",
      "[1, 2, 2000, 4, 5]\n",
      "1722544591240\n",
      "[1, 2, 3, 3000, 5]\n",
      "1722544591176\n"
     ]
    }
   ],
   "source": [
    "# copy()函数,浅拷贝，为传值操作\n",
    "# 通常的vv = v 的操作是传地址操作\n",
    "v = [1,2,3,4,5]\n",
    "vv = v\n",
    "vvv = v.copy()\n",
    "print(v)\n",
    "print(id(v))\n",
    "print(vv)\n",
    "print(id(vv))\n",
    "print(vvv)\n",
    "print(id(vvv))\n",
    "print('-' * 20)\n",
    "vv[2] = 2000\n",
    "vvv[3] = 3000\n",
    "print(v)\n",
    "print(id(v))\n",
    "print(vv)\n",
    "print(id(vv))\n",
    "print(vvv)\n",
    "print(id(vvv))"
   ]
  },
  {
   "cell_type": "code",
   "execution_count": 18,
   "metadata": {},
   "outputs": [
    {
     "name": "stdout",
     "output_type": "stream",
     "text": [
      "[1, 2, 3, 4, [10, 20, 30]]\n",
      "1722544601800\n",
      "[1, 2, 3, 4, [10, 20, 30]]\n",
      "1722544601288\n",
      "--------------------\n",
      "1722544536136\n",
      "1722544536136\n",
      "--------------------\n",
      "[1, 2, 3, 4, [10, 20, 200]]\n",
      "1722544601800\n",
      "[1, 2, 3, 4, [10, 20, 200]]\n",
      "1722544601288\n"
     ]
    }
   ],
   "source": [
    "# 深拷贝\n",
    "# 以下示例显示浅拷贝的存在的不足\n",
    "# copy只拷贝列表的一层内容\n",
    "a = [1,2,3,4,[10,20,30]]\n",
    "b = a.copy()\n",
    "print(a)\n",
    "print(id(a))\n",
    "print(b)\n",
    "print(id(b))\n",
    "print('-' * 20)\n",
    "print(id(a[4]))\n",
    "print(id(b[4]))\n",
    "print('-' * 20)\n",
    "# 将列表a的index为4的index为2的值改为200\n",
    "a[4][2] = 200\n",
    "print(a)\n",
    "print(id(a))\n",
    "print(b)\n",
    "print(id(b))"
   ]
  },
  {
   "cell_type": "code",
   "execution_count": 42,
   "metadata": {},
   "outputs": [],
   "source": [
    "l.append('a')"
   ]
  },
  {
   "cell_type": "code",
   "execution_count": 43,
   "metadata": {},
   "outputs": [
    {
     "name": "stdout",
     "output_type": "stream",
     "text": [
      "[1, 2, 3, 4, 5, 6, 'a']\n",
      "[1, 2, 3, 4, 5, 6, 'a']\n",
      "[1, 2, 3, 4, 5, 6]\n"
     ]
    }
   ],
   "source": [
    "print(l)\n",
    "print(ll)\n",
    "print(lll)"
   ]
  },
  {
   "cell_type": "code",
   "execution_count": 44,
   "metadata": {},
   "outputs": [
    {
     "name": "stdout",
     "output_type": "stream",
     "text": [
      "1388663402184\n",
      "1388663402184\n",
      "1388663551560\n"
     ]
    }
   ],
   "source": [
    "print(id(l))\n",
    "print(id(ll))\n",
    "print(id(lll))"
   ]
  },
  {
   "cell_type": "markdown",
   "metadata": {},
   "source": [
    "### List中删除项\n",
    "- del:按照列表的索引位置删除项，如果不加索引位置，则会把list删除\n",
    "- remove():移除某一项，需指定具体的项\n",
    "- pop()：如果不指定删除的索引位置，则删除列表中最后一个元素，并返回删除的元素\n",
    "- clear():清空列表,删除列表中的所有元素，使之成为一个空列表"
   ]
  },
  {
   "cell_type": "code",
   "execution_count": 4,
   "metadata": {},
   "outputs": [
    {
     "name": "stdout",
     "output_type": "stream",
     "text": [
      "['a', 44, 33, 2, 4, 'apple']\n"
     ]
    }
   ],
   "source": [
    "a = ['a',44,33,2,4,'apple']\n",
    "print(a)"
   ]
  },
  {
   "cell_type": "code",
   "execution_count": 47,
   "metadata": {},
   "outputs": [
    {
     "name": "stdout",
     "output_type": "stream",
     "text": [
      "['a', 44, 2, 4, 'apple']\n"
     ]
    }
   ],
   "source": [
    "del a[2]\n",
    "print(a)"
   ]
  },
  {
   "cell_type": "code",
   "execution_count": 5,
   "metadata": {},
   "outputs": [
    {
     "name": "stdout",
     "output_type": "stream",
     "text": [
      "[44, 33, 2, 4, 'apple']\n"
     ]
    }
   ],
   "source": [
    "# 使用remove\n",
    "a.remove('a')\n",
    "print(a)"
   ]
  },
  {
   "cell_type": "code",
   "execution_count": 49,
   "metadata": {},
   "outputs": [
    {
     "ename": "NameError",
     "evalue": "name 'a' is not defined",
     "output_type": "error",
     "traceback": [
      "\u001b[1;31m---------------------------------------------------------------------------\u001b[0m",
      "\u001b[1;31mNameError\u001b[0m                                 Traceback (most recent call last)",
      "\u001b[1;32m<ipython-input-49-c342333e421e>\u001b[0m in \u001b[0;36m<module>\u001b[1;34m()\u001b[0m\n\u001b[0;32m      1\u001b[0m \u001b[1;32mdel\u001b[0m \u001b[0ma\u001b[0m\u001b[1;33m\u001b[0m\u001b[0m\n\u001b[1;32m----> 2\u001b[1;33m \u001b[0mprint\u001b[0m\u001b[1;33m(\u001b[0m\u001b[0ma\u001b[0m\u001b[1;33m)\u001b[0m\u001b[1;33m\u001b[0m\u001b[0m\n\u001b[0m",
      "\u001b[1;31mNameError\u001b[0m: name 'a' is not defined"
     ]
    }
   ],
   "source": [
    "del a\n",
    "print(a)"
   ]
  },
  {
   "cell_type": "code",
   "execution_count": 2,
   "metadata": {},
   "outputs": [
    {
     "name": "stdout",
     "output_type": "stream",
     "text": [
      "[1, 2, 3, 4, 5, 6]\n",
      "[1, 3, 4, 5, 6]\n",
      "[1, 3, 4, 5]\n"
     ]
    }
   ],
   "source": [
    "# 使用pop\n",
    "m = [1,2,3,4,5,6]\n",
    "print(m)\n",
    "m.pop(1)\n",
    "print(m)\n",
    "m.pop()\n",
    "print(m)"
   ]
  },
  {
   "cell_type": "code",
   "execution_count": 6,
   "metadata": {},
   "outputs": [
    {
     "name": "stdout",
     "output_type": "stream",
     "text": [
      "[1, 2, 3, 4, 5, 6]\n",
      "[]\n"
     ]
    }
   ],
   "source": [
    "v = [1,2,3,4,5,6]\n",
    "print(v)\n",
    "v.clear()\n",
    "print(v)"
   ]
  },
  {
   "cell_type": "markdown",
   "metadata": {},
   "source": [
    "### 列表中新增项\n",
    "- 两个列表相加\n",
    "- 列表乘法：将一个列表复制n遍\n",
    "- append():一次只能增加一个值\n",
    "- extend():一次可以增加多个值\n",
    "- insert():向列表指定的索引位置，插入一个值\n",
    "- reverse():反转列表中的元素位置"
   ]
  },
  {
   "cell_type": "code",
   "execution_count": 50,
   "metadata": {},
   "outputs": [
    {
     "name": "stdout",
     "output_type": "stream",
     "text": [
      "[1, 3, 4, 'mm', 'aa', True]\n",
      "[2, 4, 9, 88]\n",
      "[1, 3, 4, 'mm', 'aa', True, 2, 4, 9, 88]\n"
     ]
    }
   ],
   "source": [
    "# 列表相加\n",
    "a = [1,3,4,'mm','aa',True]\n",
    "b = [2,4,9,88]\n",
    "c = a + b\n",
    "print(a)\n",
    "print(b)\n",
    "print(c)"
   ]
  },
  {
   "cell_type": "code",
   "execution_count": 51,
   "metadata": {},
   "outputs": [
    {
     "name": "stdout",
     "output_type": "stream",
     "text": [
      "[2, 4, 9, 88]\n",
      "[2, 4, 9, 88, 2, 4, 9, 88, 2, 4, 9, 88]\n"
     ]
    }
   ],
   "source": [
    "# 列表乘法\n",
    "b = [2,4,9,88]\n",
    "d = b * 3\n",
    "print(b)\n",
    "print(d)"
   ]
  },
  {
   "cell_type": "code",
   "execution_count": 52,
   "metadata": {},
   "outputs": [
    {
     "name": "stdout",
     "output_type": "stream",
     "text": [
      "[1, 3, 4, 'mm', 'aa', True]\n",
      "[1, 3, 4, 'mm', 'aa', True, 'KKK']\n"
     ]
    }
   ],
   "source": [
    "# 使用append()\n",
    "a = [1,3,4,'mm','aa',True]\n",
    "print(a)\n",
    "a.append('KKK')\n",
    "print(a)"
   ]
  },
  {
   "cell_type": "code",
   "execution_count": 53,
   "metadata": {},
   "outputs": [
    {
     "name": "stdout",
     "output_type": "stream",
     "text": [
      "[1, 3, 4, 'mm', 'aa', True]\n",
      "[1, 3, 4, 'mm', 'aa', True, 'apple', 111, False, 90]\n"
     ]
    }
   ],
   "source": [
    "# 使用extend()\n",
    "# extend就相当于将另一个列表附加到一个列表，相当于列表相加\n",
    "a = [1,3,4,'mm','aa',True]\n",
    "print(a)\n",
    "a.extend(['apple',111,False,90])\n",
    "print(a)"
   ]
  },
  {
   "cell_type": "code",
   "execution_count": 54,
   "metadata": {},
   "outputs": [
    {
     "name": "stdout",
     "output_type": "stream",
     "text": [
      "[1, 3, 4, 'mm', 'aa', True]\n",
      "[1, 'TOM', 3, 4, 'mm', 'aa', True]\n"
     ]
    }
   ],
   "source": [
    "# 使用insert()\n",
    "a = [1,3,4,'mm','aa',True]\n",
    "print(a)\n",
    "a.insert(1,'TOM')\n",
    "print(a)"
   ]
  },
  {
   "cell_type": "code",
   "execution_count": 1,
   "metadata": {},
   "outputs": [
    {
     "name": "stdout",
     "output_type": "stream",
     "text": [
      "[1, 2, 3, 4, 5, 6]\n",
      "[1, 2, 3, 100, 5, 6]\n"
     ]
    }
   ],
   "source": [
    "# 更改列表中的值，按照索引位置\n",
    "n = [1,2,3,4,5,6]\n",
    "print(n)\n",
    "n[3] = 100\n",
    "print(n)"
   ]
  },
  {
   "cell_type": "code",
   "execution_count": 9,
   "metadata": {},
   "outputs": [
    {
     "name": "stdout",
     "output_type": "stream",
     "text": [
      "[1, 2, 3, 4, 5, 6]\n",
      "[6, 5, 4, 3, 2, 1]\n"
     ]
    }
   ],
   "source": [
    "# 使用reserve\n",
    "q = [1,2,3,4,5,6]\n",
    "print(q)\n",
    "q.reverse()\n",
    "print(q)"
   ]
  },
  {
   "cell_type": "markdown",
   "metadata": {},
   "source": [
    "### 列表成员关系和索引位置\n",
    "- in,not in：表示某个元素在不在列表中\n",
    "- index：打印出某元素在列表中的索引位置\n",
    "- count:计算某个元素在列表中的个数\n",
    "- len:计算列表元素的个数"
   ]
  },
  {
   "cell_type": "code",
   "execution_count": 55,
   "metadata": {},
   "outputs": [],
   "source": [
    "# 使用in,not in\n",
    "a = [1,3,4,'mm','aa',True]"
   ]
  },
  {
   "cell_type": "code",
   "execution_count": 56,
   "metadata": {},
   "outputs": [
    {
     "data": {
      "text/plain": [
       "True"
      ]
     },
     "execution_count": 56,
     "metadata": {},
     "output_type": "execute_result"
    }
   ],
   "source": [
    "'mm' in a"
   ]
  },
  {
   "cell_type": "code",
   "execution_count": 57,
   "metadata": {},
   "outputs": [
    {
     "data": {
      "text/plain": [
       "False"
      ]
     },
     "execution_count": 57,
     "metadata": {},
     "output_type": "execute_result"
    }
   ],
   "source": [
    "77 in a"
   ]
  },
  {
   "cell_type": "code",
   "execution_count": 58,
   "metadata": {},
   "outputs": [
    {
     "data": {
      "text/plain": [
       "True"
      ]
     },
     "execution_count": 58,
     "metadata": {},
     "output_type": "execute_result"
    }
   ],
   "source": [
    "88 not in a"
   ]
  },
  {
   "cell_type": "code",
   "execution_count": 59,
   "metadata": {},
   "outputs": [
    {
     "data": {
      "text/plain": [
       "True"
      ]
     },
     "execution_count": 59,
     "metadata": {},
     "output_type": "execute_result"
    }
   ],
   "source": [
    "True in a"
   ]
  },
  {
   "cell_type": "code",
   "execution_count": 60,
   "metadata": {},
   "outputs": [
    {
     "data": {
      "text/plain": [
       "False"
      ]
     },
     "execution_count": 60,
     "metadata": {},
     "output_type": "execute_result"
    }
   ],
   "source": [
    "False in a"
   ]
  },
  {
   "cell_type": "code",
   "execution_count": 67,
   "metadata": {},
   "outputs": [],
   "source": [
    "# 使用index\n",
    "a = [1,3,4,'mm',False,'aa',True,99,4]"
   ]
  },
  {
   "cell_type": "code",
   "execution_count": 62,
   "metadata": {},
   "outputs": [
    {
     "data": {
      "text/plain": [
       "1"
      ]
     },
     "execution_count": 62,
     "metadata": {},
     "output_type": "execute_result"
    }
   ],
   "source": [
    "a.index(3)"
   ]
  },
  {
   "cell_type": "code",
   "execution_count": 68,
   "metadata": {},
   "outputs": [
    {
     "data": {
      "text/plain": [
       "0"
      ]
     },
     "execution_count": 68,
     "metadata": {},
     "output_type": "execute_result"
    }
   ],
   "source": [
    "a.index(True)"
   ]
  },
  {
   "cell_type": "code",
   "execution_count": 69,
   "metadata": {},
   "outputs": [
    {
     "data": {
      "text/plain": [
       "4"
      ]
     },
     "execution_count": 69,
     "metadata": {},
     "output_type": "execute_result"
    }
   ],
   "source": [
    "a.index(False)"
   ]
  },
  {
   "cell_type": "code",
   "execution_count": 70,
   "metadata": {},
   "outputs": [
    {
     "data": {
      "text/plain": [
       "7"
      ]
     },
     "execution_count": 70,
     "metadata": {},
     "output_type": "execute_result"
    }
   ],
   "source": [
    "a.index(99)"
   ]
  },
  {
   "cell_type": "code",
   "execution_count": 71,
   "metadata": {},
   "outputs": [],
   "source": [
    "# 使用count\n",
    "a = [1,3,4,'mm',False,'aa',True,99,4,'mm',2,3]"
   ]
  },
  {
   "cell_type": "code",
   "execution_count": 72,
   "metadata": {},
   "outputs": [
    {
     "data": {
      "text/plain": [
       "2"
      ]
     },
     "execution_count": 72,
     "metadata": {},
     "output_type": "execute_result"
    }
   ],
   "source": [
    "a.count(3)"
   ]
  },
  {
   "cell_type": "code",
   "execution_count": 73,
   "metadata": {},
   "outputs": [
    {
     "data": {
      "text/plain": [
       "2"
      ]
     },
     "execution_count": 73,
     "metadata": {},
     "output_type": "execute_result"
    }
   ],
   "source": [
    "a.count(True)"
   ]
  },
  {
   "cell_type": "code",
   "execution_count": 74,
   "metadata": {},
   "outputs": [
    {
     "data": {
      "text/plain": [
       "1"
      ]
     },
     "execution_count": 74,
     "metadata": {},
     "output_type": "execute_result"
    }
   ],
   "source": [
    "a.count(False)"
   ]
  },
  {
   "cell_type": "code",
   "execution_count": 77,
   "metadata": {},
   "outputs": [
    {
     "data": {
      "text/plain": [
       "True"
      ]
     },
     "execution_count": 77,
     "metadata": {},
     "output_type": "execute_result"
    }
   ],
   "source": [
    "n = [1,2]\n",
    "True in n"
   ]
  },
  {
   "cell_type": "code",
   "execution_count": 78,
   "metadata": {},
   "outputs": [
    {
     "data": {
      "text/plain": [
       "5"
      ]
     },
     "execution_count": 78,
     "metadata": {},
     "output_type": "execute_result"
    }
   ],
   "source": [
    "# 使用len\n",
    "a = [1,2,4,'b','apply']\n",
    "\n",
    "len(a)"
   ]
  },
  {
   "cell_type": "markdown",
   "metadata": {},
   "source": [
    "## 列表解析（遍历）\n",
    "- for"
   ]
  },
  {
   "cell_type": "code",
   "execution_count": 80,
   "metadata": {},
   "outputs": [
    {
     "name": "stdout",
     "output_type": "stream",
     "text": [
      "1\n",
      "3\n",
      "5\n",
      "7\n",
      "9\n",
      "--------------------\n",
      "[2, 6, 10, 14, 18]\n",
      "--------------------\n",
      "[2, 8, 10, 'aa', 'appleapple']\n"
     ]
    }
   ],
   "source": [
    "# for\n",
    "a = [1,3,5,7,9]\n",
    "#打印每个元素\n",
    "for i in a:\n",
    "    print(i)\n",
    "print('-' * 20)   \n",
    "# 将每个元素乘2\n",
    "b = [i * 2 for i in a]\n",
    "print(b)\n",
    "\n",
    "print('-' * 20) \n",
    "\n",
    "c = [1,4,5,'a','apple']\n",
    "d = [i * 2 for i in c]\n",
    "print(d)"
   ]
  },
  {
   "cell_type": "markdown",
   "metadata": {},
   "source": [
    "## 列表内涵 list content\n",
    "- 上例中b = [i * 2 for i in a]，就是列表内涵一种范例"
   ]
  },
  {
   "cell_type": "code",
   "execution_count": 92,
   "metadata": {},
   "outputs": [
    {
     "name": "stdout",
     "output_type": "stream",
     "text": [
      "list a = [0, 1, 2, 3, 4, 5, 6, 7, 8, 9, 10, 11, 12, 13, 14]\n",
      "list b = [1, 3, 5, 7, 9, 11, 13]\n",
      "list c = [0, 1, 1, 2, 2, 3]\n"
     ]
    }
   ],
   "source": [
    "# 列表内涵使用条件表达式\n",
    "a = [i for i in range(15)]\n",
    "b = [i for i in a if i % 2 == 1]\n",
    "print('list a =',a)\n",
    "print('list b =',b)\n",
    "\n",
    "# 嵌套\n",
    "c = [m+n for m in range(3) for n in range(2)]\n",
    "# 将list m 和list n 的每个值分别相加\n",
    "print('list c =',c)"
   ]
  },
  {
   "cell_type": "markdown",
   "metadata": {},
   "source": [
    "## 嵌套列表\n",
    "- 列表的元素为一个或多个列表"
   ]
  },
  {
   "cell_type": "code",
   "execution_count": 81,
   "metadata": {},
   "outputs": [
    {
     "name": "stdout",
     "output_type": "stream",
     "text": [
      "[['one', 1], ['two', 2], ['three', 3]]\n"
     ]
    }
   ],
   "source": [
    "a = [['one',1],['two',2],['three',3]]\n",
    "print(a)"
   ]
  },
  {
   "cell_type": "code",
   "execution_count": 83,
   "metadata": {},
   "outputs": [
    {
     "name": "stdout",
     "output_type": "stream",
     "text": [
      "['two', 2]\n"
     ]
    }
   ],
   "source": [
    "print(a[1])"
   ]
  },
  {
   "cell_type": "code",
   "execution_count": 84,
   "metadata": {},
   "outputs": [
    {
     "name": "stdout",
     "output_type": "stream",
     "text": [
      "one --> 1\n",
      "two --> 2\n",
      "three --> 3\n"
     ]
    }
   ],
   "source": [
    "for k,v in a:\n",
    "    print(k, '-->', v)"
   ]
  },
  {
   "cell_type": "code",
   "execution_count": 94,
   "metadata": {},
   "outputs": [
    {
     "name": "stdout",
     "output_type": "stream",
     "text": [
      "['I', ' ', 'l', 'o', 'v', 'e', ' ', 'w', 'a', 'n', 'g', 'm', 'e', 'i', 'l', 'i']\n"
     ]
    }
   ],
   "source": [
    "# 将字符串转化为list\n",
    "love = 'I love wangmeili'\n",
    "b = list(love)\n",
    "print(b)"
   ]
  },
  {
   "cell_type": "code",
   "execution_count": null,
   "metadata": {},
   "outputs": [],
   "source": []
  }
 ],
 "metadata": {
  "kernelspec": {
   "display_name": "Python 3",
   "language": "python",
   "name": "python3"
  },
  "language_info": {
   "codemirror_mode": {
    "name": "ipython",
    "version": 3
   },
   "file_extension": ".py",
   "mimetype": "text/x-python",
   "name": "python",
   "nbconvert_exporter": "python",
   "pygments_lexer": "ipython3",
   "version": "3.6.5"
  }
 },
 "nbformat": 4,
 "nbformat_minor": 2
}
