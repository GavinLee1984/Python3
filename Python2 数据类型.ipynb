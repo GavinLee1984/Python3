{
 "cells": [
  {
   "cell_type": "markdown",
   "metadata": {},
   "source": [
    "# 注释\n",
    "\n",
    "    - 机器不去助兴注释的内容\n",
    "    - 注释一般采用自然语言写\n",
    "    - 注释的写法\n",
    "        - 行注释：以#开头，可以是单独行，也可以在某行代码后面\n",
    "        - 快注释：以三个连续的单引号开始和结束，中间的内容为注释\n"
   ]
  },
  {
   "cell_type": "code",
   "execution_count": null,
   "metadata": {},
   "outputs": [],
   "source": []
  },
  {
   "cell_type": "code",
   "execution_count": 7,
   "metadata": {},
   "outputs": [
    {
     "name": "stdout",
     "output_type": "stream",
     "text": [
      "Hello Word!\n"
     ]
    },
    {
     "data": {
      "text/plain": [
       "'\\n这里是注释的内容。\\n'"
      ]
     },
     "execution_count": 7,
     "metadata": {},
     "output_type": "execute_result"
    }
   ],
   "source": [
    "#这里是注释\n",
    "print('Hello Word!')\n",
    "'''\n",
    "这里是注释的内容。\n",
    "'''"
   ]
  },
  {
   "cell_type": "code",
   "execution_count": null,
   "metadata": {},
   "outputs": [],
   "source": []
  },
  {
   "cell_type": "markdown",
   "metadata": {},
   "source": [
    "# 变量\n",
    "##\n",
    "    - 变量：可以重复使用的一个量，或者代号\n",
    "    - 变量的命名规则：\n",
    "        - 变量名可以包含数字、大小写字母、下划线等，不推荐使用前三个之外的字符\n",
    "         - 不能使用数字开头\n",
    "         - Python中一般以下划线(_)开头的内容有特殊含义，不建议使用\n",
    "         - 大小写严格区分，ABC != abc != aBC等等\n",
    "         - 推荐具有固定含义的单词或缩写，如srv=server\n",
    "         - 驼峰命名法，名称以单词自动连接，且每个单词的首字母大写\n",
    "             - 大驼峰，每个单词首字母大写\n",
    "                 - python中给类命名使用该规则\n",
    "                 - 如 MyFirstLove,IntOne\n",
    "             - 小驼峰，第一个字母小写\n",
    "                 - Python中一般给普通变量或函数命名\n",
    "                 - 如 mylove,intone\n",
    "             - posix写法\n",
    "                 - 多个单词用下划线连接\n",
    "                 - 单词全部小写\n",
    "                 - 如 my_first_love，int_one\n",
    "         - 保留字和关键字不能用\n",
    "             - 如class,def,break,for,while等"
   ]
  },
  {
   "cell_type": "code",
   "execution_count": null,
   "metadata": {},
   "outputs": [],
   "source": []
  },
  {
   "cell_type": "code",
   "execution_count": 8,
   "metadata": {},
   "outputs": [
    {
     "name": "stdout",
     "output_type": "stream",
     "text": [
      "['False', 'None', 'True', 'and', 'as', 'assert', 'break', 'class', 'continue', 'def', 'del', 'elif', 'else', 'except', 'finally', 'for', 'from', 'global', 'if', 'import', 'in', 'is', 'lambda', 'nonlocal', 'not', 'or', 'pass', 'raise', 'return', 'try', 'while', 'with', 'yield']\n"
     ]
    }
   ],
   "source": [
    "#查看关键字的方法\n",
    "import keyword #引入关键字模块\n",
    "#打印系统中所有的系统关键字\n",
    "print(keyword.kwlist)"
   ]
  },
  {
   "cell_type": "markdown",
   "metadata": {},
   "source": [
    "## 声明变量\n",
    "- var_name = var_value\n",
    "    - 一个等号表示赋值，两个等号表示等于\n",
    "    - var1 = 124\n",
    "- var1 = var2 = var3\n",
    "- var1,var2,var3 = v1,v2,v3"
   ]
  },
  {
   "cell_type": "code",
   "execution_count": null,
   "metadata": {},
   "outputs": [],
   "source": []
  },
  {
   "cell_type": "code",
   "execution_count": 9,
   "metadata": {},
   "outputs": [
    {
     "name": "stdout",
     "output_type": "stream",
     "text": [
      "20\n",
      "22\n",
      "22\n",
      "22\n",
      "11\n",
      "12\n",
      "13\n"
     ]
    }
   ],
   "source": [
    "#定义变量age\n",
    "age = 20\n",
    "print(age)\n",
    "\n",
    "#定义变量age1,age2,age3\n",
    "age1 = age2 = age3 = 22\n",
    "print(age1)\n",
    "print(age2)\n",
    "print(age3)\n",
    "\n",
    "age11,age22,age33 = 11,12,13\n",
    "print(age11)\n",
    "print(age22)\n",
    "print(age33)"
   ]
  },
  {
   "cell_type": "markdown",
   "metadata": {},
   "source": [
    "## 变量类型\n",
    "- 标准的数据类型\n",
    "    - 数字类型Number\n",
    "    - 字符类型Str\n",
    "    - 列表 list\n",
    "    - 元组 tuple\n",
    "    - 字典 Dictionary\n",
    "    - 集合 set"
   ]
  },
  {
   "cell_type": "markdown",
   "metadata": {},
   "source": [
    "### Number类型\n",
    "- 整数\n",
    "    - 没有小数部分\n",
    "    - 自然数，0，负数\n",
    "    - 整数分进制\n",
    "        - 二进制\n",
    "            - 计算机使用\n",
    "            - 表示为以0b开头的0，1代码\n",
    "            - 如：0b1111,0b100101\n",
    "        - 八进制\n",
    "            - 以0o开头的包含0-7的数字\n",
    "        - 十六进制\n",
    "            - 以0x开头，包含0-9，a-f\n",
    "        - 十进制"
   ]
  },
  {
   "cell_type": "code",
   "execution_count": null,
   "metadata": {},
   "outputs": [],
   "source": []
  },
  {
   "cell_type": "code",
   "execution_count": 12,
   "metadata": {},
   "outputs": [
    {
     "name": "stdout",
     "output_type": "stream",
     "text": [
      "17\n",
      "255\n"
     ]
    }
   ],
   "source": [
    "#二进制表示\n",
    "age = 0b10001\n",
    "print(age)\n",
    "\n",
    "#使用十六进制\n",
    "age1 = 0xff\n",
    "print(age1)"
   ]
  },
  {
   "cell_type": "markdown",
   "metadata": {},
   "source": [
    "### 浮点数\n",
    "- 小数，计算机中浮点小数可以有条件省略\n",
    "    - 3.123\n",
    "    - 0.4\n",
    "    - .5"
   ]
  },
  {
   "cell_type": "code",
   "execution_count": null,
   "metadata": {},
   "outputs": [],
   "source": []
  },
  {
   "cell_type": "code",
   "execution_count": 13,
   "metadata": {},
   "outputs": [
    {
     "name": "stdout",
     "output_type": "stream",
     "text": [
      "123.6\n",
      "0.6\n",
      "174.7\n",
      "My hight is 174.7 and my weight is 123.6 and my shili is 0.6\n"
     ]
    }
   ],
   "source": [
    "weight = 123.6\n",
    "print(weight)\n",
    "\n",
    "shili = 0.6\n",
    "print(shili)\n",
    "\n",
    "hight = 174.7\n",
    "print(hight)\n",
    "\n",
    "print('My hight is',hight,'and my weight is',weight,'and my shili is',shili)"
   ]
  },
  {
   "cell_type": "code",
   "execution_count": null,
   "metadata": {},
   "outputs": [],
   "source": []
  },
  {
   "cell_type": "markdown",
   "metadata": {},
   "source": [
    "### 复数\n",
    "- 同数学中的定义\n",
    "- 一个由实部和虚部构成的\n",
    "- 虚部使用j/J表示\n",
    "\n",
    "### 布尔值\n",
    "- 表示真假的值\n",
    "- 使用 True 和 False\n",
    "- 布尔值可以直接跟数字操作"
   ]
  },
  {
   "cell_type": "code",
   "execution_count": 14,
   "metadata": {},
   "outputs": [
    {
     "name": "stdout",
     "output_type": "stream",
     "text": [
      "19\n",
      "18\n"
     ]
    }
   ],
   "source": [
    "#布尔值\n",
    "age = 18\n",
    "age1 = age + True\n",
    "age2 = age + False\n",
    "print(age1)\n",
    "print(age2)"
   ]
  },
  {
   "cell_type": "markdown",
   "metadata": {},
   "source": [
    "## 字符串\n",
    "- 用来表示一段文字信息\n",
    "- 表示：\n",
    "    - 单引号\n",
    "    - 双引号\n",
    "    - 三引号"
   ]
  },
  {
   "cell_type": "code",
   "execution_count": 17,
   "metadata": {},
   "outputs": [
    {
     "name": "stdout",
     "output_type": "stream",
     "text": [
      "I love learn python\n",
      "I love wangmeili\n",
      "his name is \"Jack\"\n",
      "\n",
      "His name is jack,\n",
      "he came from American,\n",
      "he is 25 years old,\n",
      "and he came here for study\n",
      "\n"
     ]
    }
   ],
   "source": [
    "#双引号\n",
    "love = \"I love learn python\"\n",
    "print(love)\n",
    "#单引号\n",
    "love1 = 'I love wangmeili'\n",
    "print(love1)\n",
    "#单双引号交叉使用\n",
    "name = 'his name is \"Jack\"'\n",
    "print(name)\n",
    "#三引号\n",
    "words ='''\n",
    "His name is jack,\n",
    "he came from American,\n",
    "he is 25 years old,\n",
    "and he came here for study\n",
    "'''\n",
    "print(words)"
   ]
  },
  {
   "cell_type": "code",
   "execution_count": null,
   "metadata": {},
   "outputs": [],
   "source": []
  },
  {
   "cell_type": "code",
   "execution_count": null,
   "metadata": {},
   "outputs": [],
   "source": []
  },
  {
   "cell_type": "code",
   "execution_count": null,
   "metadata": {},
   "outputs": [],
   "source": []
  },
  {
   "cell_type": "code",
   "execution_count": null,
   "metadata": {},
   "outputs": [],
   "source": []
  },
  {
   "cell_type": "code",
   "execution_count": null,
   "metadata": {},
   "outputs": [],
   "source": []
  }
 ],
 "metadata": {
  "kernelspec": {
   "display_name": "Python 3",
   "language": "python",
   "name": "python3"
  },
  "language_info": {
   "codemirror_mode": {
    "name": "ipython",
    "version": 3
   },
   "file_extension": ".py",
   "mimetype": "text/x-python",
   "name": "python",
   "nbconvert_exporter": "python",
   "pygments_lexer": "ipython3",
   "version": "3.6.5"
  }
 },
 "nbformat": 4,
 "nbformat_minor": 2
}
