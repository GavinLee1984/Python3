{
 "cells": [
  {
   "cell_type": "markdown",
   "metadata": {},
   "source": [
    "## 函数变量的作用域\n",
    "- 变量的分类\n",
    "    - 全局变量 globe\n",
    "    - 局部变量 local，一般在函数内部定义\n",
    "- 变量的作用范围\n",
    "    - global，在全局范围内都有效，在函数内部也通用\n",
    "    - local，只在函数内部使用\n",
    "    - LEGB原则\n",
    "        - L local 局部作用域\n",
    "        - E Enclosing function locale 外部嵌套函数作用域\n",
    "        - G Global module 函数定义所在作用域\n",
    "        - B Buildin Python内置模块的作用域"
   ]
  },
  {
   "cell_type": "code",
   "execution_count": 7,
   "metadata": {},
   "outputs": [
    {
     "name": "stdout",
     "output_type": "stream",
     "text": [
      "2\n",
      "12\n"
     ]
    },
    {
     "ename": "NameError",
     "evalue": "name 'v3' is not defined",
     "output_type": "error",
     "traceback": [
      "\u001b[1;31m---------------------------------------------------------------------------\u001b[0m",
      "\u001b[1;31mNameError\u001b[0m                                 Traceback (most recent call last)",
      "\u001b[1;32m<ipython-input-7-7cb38634633d>\u001b[0m in \u001b[0;36m<module>\u001b[1;34m()\u001b[0m\n\u001b[0;32m      9\u001b[0m \u001b[0mprint\u001b[0m\u001b[1;33m(\u001b[0m\u001b[0mv1\u001b[0m\u001b[1;33m)\u001b[0m\u001b[1;33m\u001b[0m\u001b[0m\n\u001b[0;32m     10\u001b[0m \u001b[0mprint\u001b[0m\u001b[1;33m(\u001b[0m\u001b[0ma\u001b[0m\u001b[1;33m)\u001b[0m\u001b[1;33m\u001b[0m\u001b[0m\n\u001b[1;32m---> 11\u001b[1;33m \u001b[0mprint\u001b[0m\u001b[1;33m(\u001b[0m\u001b[0mv3\u001b[0m\u001b[1;33m)\u001b[0m\u001b[1;33m\u001b[0m\u001b[0m\n\u001b[0m",
      "\u001b[1;31mNameError\u001b[0m: name 'v3' is not defined"
     ]
    }
   ],
   "source": [
    "v1 = 2\n",
    "v2 = 3\n",
    "def aaa():\n",
    "    v1 = 1\n",
    "    v1 += 5\n",
    "    v3 = v1 * 2\n",
    "    return v3\n",
    "a = aaa()\n",
    "print(v1)\n",
    "print(a)\n",
    "print(v3) #v3的作用域仅在于aaa()函数内部，无法在函数外部调用"
   ]
  },
  {
   "cell_type": "markdown",
   "metadata": {},
   "source": [
    "### 提升局部变量为全局变量\n",
    "- 使用global关键字"
   ]
  },
  {
   "cell_type": "code",
   "execution_count": 11,
   "metadata": {},
   "outputs": [
    {
     "name": "stdout",
     "output_type": "stream",
     "text": [
      "2\n",
      "6\n",
      "18\n"
     ]
    }
   ],
   "source": [
    "v1 = 2\n",
    "v2 = 3\n",
    "def aaa():\n",
    "    v1 = 1\n",
    "    v1 += 5\n",
    "    global v3\n",
    "    v3 = v1 * v2\n",
    "    return v1\n",
    "a = aaa()\n",
    "print(v1)\n",
    "print(a)\n",
    "print(v3)"
   ]
  },
  {
   "cell_type": "markdown",
   "metadata": {},
   "source": [
    "### globals，locals函数\n",
    "- 可以通过globals和locals显示出句不变量和全局变量"
   ]
  },
  {
   "cell_type": "code",
   "execution_count": 13,
   "metadata": {},
   "outputs": [
    {
     "name": "stdout",
     "output_type": "stream",
     "text": [
      "locals={'c': 5, 'e': 200, 'd': 100}\n",
      "globals={'__name__': '__main__', '__doc__': 'Automatically created module for IPython interactive environment', '__package__': None, '__loader__': None, '__spec__': None, '__builtin__': <module 'builtins' (built-in)>, '__builtins__': <module 'builtins' (built-in)>, '_ih': ['', 'v1 = 2\\nv2 = 3\\ndef aaa():\\n    local v1 += 5\\n    v3 = v1 * 2\\n    return v3\\naaa()', 'v1 = 2\\nv2 = 3\\ndef aaa():\\n    local v1 = 1\\n    v1 += 5\\n    v3 = v1 * 2\\n    return v3\\naaa()', 'v1 = 2\\nv2 = 3\\ndef aaa():\\n    v1 = 1\\n    v1 += 5\\n    v3 = v1 * 2\\n    return v3\\naaa()', 'v1 = 2\\nv2 = 3\\ndef aaa():\\n    v1 = 1\\n    v1 += 5\\n    v3 = v1 * 2\\n    return v3\\na = aaa()\\nprint(v1)\\nprint(a)', 'v1 = 2\\nv2 = 3\\ndef aaa():\\n    v1 = 1\\n    v1 += 5\\n    v3 = v1 * 2\\n    return v3\\na = aaa()\\nprint(v1)\\nprint(a)\\nprint(v3)', 'v1 = 2\\nv2 = 3\\ndef aaa():\\n    v1 = 1\\n    v1 += 5\\n    v3 = v1 * 2\\n    return v3\\na = aaa()\\nprint(v1)\\nprint(a)\\n#print(v3)', 'v1 = 2\\nv2 = 3\\ndef aaa():\\n    v1 = 1\\n    v1 += 5\\n    v3 = v1 * 2\\n    return v3\\na = aaa()\\nprint(v1)\\nprint(a)\\nprint(v3)', 'v1 = 2\\nv2 = 3\\ndef aaa():\\n    v1 = 1\\n    v1 += 5\\n    global v3 = v1 * 2\\n    return v3\\na = aaa()\\nprint(v1)\\nprint(a)\\nprint(v3)', 'v1 = 2\\nv2 = 3\\ndef aaa():\\n    v1 = 1\\n    v1 += 5\\n    global v3 = 0\\n    v3 = v1 * v2\\n    return v3\\na = aaa()\\nprint(v1)\\nprint(a)\\nprint(v3)', 'v1 = 2\\nv2 = 3\\ndef aaa():\\n    v1 = 1\\n    v1 += 5\\n    global v3\\n    v3 = v1 * v2\\n    return v3\\na = aaa()\\nprint(v1)\\nprint(a)\\nprint(v3)', 'v1 = 2\\nv2 = 3\\ndef aaa():\\n    v1 = 1\\n    v1 += 5\\n    global v3\\n    v3 = v1 * v2\\n    return v1\\na = aaa()\\nprint(v1)\\nprint(a)\\nprint(v3)', '# globals & locals\\na = 2\\nb = 3\\ndef nnn(d,e):\\n    c = 5\\n    print(\"locals={0}\".format(locals()))\\n    print(\"globals={0}\".format(globals()))\\n    \\nqq = fun(100,200)\\nprint(qq)', '# globals & locals\\na = 2\\nb = 3\\ndef nnn(d,e):\\n    c = 5\\n    print(\"locals={0}\".format(locals()))\\n    print(\"globals={0}\".format(globals()))\\n    \\nqq = nnn(100,200)\\nprint(qq)'], '_oh': {3: 12}, '_dh': ['C:\\\\Users\\\\Lee52\\\\Videos'], 'In': ['', 'v1 = 2\\nv2 = 3\\ndef aaa():\\n    local v1 += 5\\n    v3 = v1 * 2\\n    return v3\\naaa()', 'v1 = 2\\nv2 = 3\\ndef aaa():\\n    local v1 = 1\\n    v1 += 5\\n    v3 = v1 * 2\\n    return v3\\naaa()', 'v1 = 2\\nv2 = 3\\ndef aaa():\\n    v1 = 1\\n    v1 += 5\\n    v3 = v1 * 2\\n    return v3\\naaa()', 'v1 = 2\\nv2 = 3\\ndef aaa():\\n    v1 = 1\\n    v1 += 5\\n    v3 = v1 * 2\\n    return v3\\na = aaa()\\nprint(v1)\\nprint(a)', 'v1 = 2\\nv2 = 3\\ndef aaa():\\n    v1 = 1\\n    v1 += 5\\n    v3 = v1 * 2\\n    return v3\\na = aaa()\\nprint(v1)\\nprint(a)\\nprint(v3)', 'v1 = 2\\nv2 = 3\\ndef aaa():\\n    v1 = 1\\n    v1 += 5\\n    v3 = v1 * 2\\n    return v3\\na = aaa()\\nprint(v1)\\nprint(a)\\n#print(v3)', 'v1 = 2\\nv2 = 3\\ndef aaa():\\n    v1 = 1\\n    v1 += 5\\n    v3 = v1 * 2\\n    return v3\\na = aaa()\\nprint(v1)\\nprint(a)\\nprint(v3)', 'v1 = 2\\nv2 = 3\\ndef aaa():\\n    v1 = 1\\n    v1 += 5\\n    global v3 = v1 * 2\\n    return v3\\na = aaa()\\nprint(v1)\\nprint(a)\\nprint(v3)', 'v1 = 2\\nv2 = 3\\ndef aaa():\\n    v1 = 1\\n    v1 += 5\\n    global v3 = 0\\n    v3 = v1 * v2\\n    return v3\\na = aaa()\\nprint(v1)\\nprint(a)\\nprint(v3)', 'v1 = 2\\nv2 = 3\\ndef aaa():\\n    v1 = 1\\n    v1 += 5\\n    global v3\\n    v3 = v1 * v2\\n    return v3\\na = aaa()\\nprint(v1)\\nprint(a)\\nprint(v3)', 'v1 = 2\\nv2 = 3\\ndef aaa():\\n    v1 = 1\\n    v1 += 5\\n    global v3\\n    v3 = v1 * v2\\n    return v1\\na = aaa()\\nprint(v1)\\nprint(a)\\nprint(v3)', '# globals & locals\\na = 2\\nb = 3\\ndef nnn(d,e):\\n    c = 5\\n    print(\"locals={0}\".format(locals()))\\n    print(\"globals={0}\".format(globals()))\\n    \\nqq = fun(100,200)\\nprint(qq)', '# globals & locals\\na = 2\\nb = 3\\ndef nnn(d,e):\\n    c = 5\\n    print(\"locals={0}\".format(locals()))\\n    print(\"globals={0}\".format(globals()))\\n    \\nqq = nnn(100,200)\\nprint(qq)'], 'Out': {3: 12}, 'get_ipython': <bound method InteractiveShell.get_ipython of <ipykernel.zmqshell.ZMQInteractiveShell object at 0x00000263CB6C7898>>, 'exit': <IPython.core.autocall.ZMQExitAutocall object at 0x00000263CB718DD8>, 'quit': <IPython.core.autocall.ZMQExitAutocall object at 0x00000263CB718DD8>, '_': 12, '__': '', '___': '', '_i': '# globals & locals\\na = 2\\nb = 3\\ndef nnn(d,e):\\n    c = 5\\n    print(\"locals={0}\".format(locals()))\\n    print(\"globals={0}\".format(globals()))\\n    \\nqq = fun(100,200)\\nprint(qq)', '_ii': 'v1 = 2\\nv2 = 3\\ndef aaa():\\n    v1 = 1\\n    v1 += 5\\n    global v3\\n    v3 = v1 * v2\\n    return v1\\na = aaa()\\nprint(v1)\\nprint(a)\\nprint(v3)', '_iii': 'v1 = 2\\nv2 = 3\\ndef aaa():\\n    v1 = 1\\n    v1 += 5\\n    global v3\\n    v3 = v1 * v2\\n    return v3\\na = aaa()\\nprint(v1)\\nprint(a)\\nprint(v3)', '_i1': 'v1 = 2\\nv2 = 3\\ndef aaa():\\n    local v1 += 5\\n    v3 = v1 * 2\\n    return v3\\naaa()', '_i2': 'v1 = 2\\nv2 = 3\\ndef aaa():\\n    local v1 = 1\\n    v1 += 5\\n    v3 = v1 * 2\\n    return v3\\naaa()', '_i3': 'v1 = 2\\nv2 = 3\\ndef aaa():\\n    v1 = 1\\n    v1 += 5\\n    v3 = v1 * 2\\n    return v3\\naaa()', 'v1': 2, 'v2': 3, 'aaa': <function aaa at 0x00000263CB8AF598>, '_3': 12, '_i4': 'v1 = 2\\nv2 = 3\\ndef aaa():\\n    v1 = 1\\n    v1 += 5\\n    v3 = v1 * 2\\n    return v3\\na = aaa()\\nprint(v1)\\nprint(a)', 'a': 2, '_i5': 'v1 = 2\\nv2 = 3\\ndef aaa():\\n    v1 = 1\\n    v1 += 5\\n    v3 = v1 * 2\\n    return v3\\na = aaa()\\nprint(v1)\\nprint(a)\\nprint(v3)', '_i6': 'v1 = 2\\nv2 = 3\\ndef aaa():\\n    v1 = 1\\n    v1 += 5\\n    v3 = v1 * 2\\n    return v3\\na = aaa()\\nprint(v1)\\nprint(a)\\n#print(v3)', '_i7': 'v1 = 2\\nv2 = 3\\ndef aaa():\\n    v1 = 1\\n    v1 += 5\\n    v3 = v1 * 2\\n    return v3\\na = aaa()\\nprint(v1)\\nprint(a)\\nprint(v3)', '_i8': 'v1 = 2\\nv2 = 3\\ndef aaa():\\n    v1 = 1\\n    v1 += 5\\n    global v3 = v1 * 2\\n    return v3\\na = aaa()\\nprint(v1)\\nprint(a)\\nprint(v3)', '_i9': 'v1 = 2\\nv2 = 3\\ndef aaa():\\n    v1 = 1\\n    v1 += 5\\n    global v3 = 0\\n    v3 = v1 * v2\\n    return v3\\na = aaa()\\nprint(v1)\\nprint(a)\\nprint(v3)', '_i10': 'v1 = 2\\nv2 = 3\\ndef aaa():\\n    v1 = 1\\n    v1 += 5\\n    global v3\\n    v3 = v1 * v2\\n    return v3\\na = aaa()\\nprint(v1)\\nprint(a)\\nprint(v3)', 'v3': 18, '_i11': 'v1 = 2\\nv2 = 3\\ndef aaa():\\n    v1 = 1\\n    v1 += 5\\n    global v3\\n    v3 = v1 * v2\\n    return v1\\na = aaa()\\nprint(v1)\\nprint(a)\\nprint(v3)', '_i12': '# globals & locals\\na = 2\\nb = 3\\ndef nnn(d,e):\\n    c = 5\\n    print(\"locals={0}\".format(locals()))\\n    print(\"globals={0}\".format(globals()))\\n    \\nqq = fun(100,200)\\nprint(qq)', 'b': 3, 'nnn': <function nnn at 0x00000263CB8AF268>, '_i13': '# globals & locals\\na = 2\\nb = 3\\ndef nnn(d,e):\\n    c = 5\\n    print(\"locals={0}\".format(locals()))\\n    print(\"globals={0}\".format(globals()))\\n    \\nqq = nnn(100,200)\\nprint(qq)'}\n",
      "None\n"
     ]
    }
   ],
   "source": [
    "# globals & locals 就叫内建函数\n",
    "# 支持nnn()运行的条件就是globals打印出来的，运来支撑函数的运行\n",
    "a = 2\n",
    "b = 3\n",
    "def nnn(d,e):\n",
    "    c = 5\n",
    "    print(\"locals={0}\".format(locals()))\n",
    "    print(\"globals={0}\".format(globals()))\n",
    "    \n",
    "qq = nnn(100,200)\n",
    "print(qq)"
   ]
  },
  {
   "cell_type": "markdown",
   "metadata": {},
   "source": [
    "### eval()函数\n",
    "- 把一个字符串当成一个表达式执行，返回表达式执行后的结果\n",
    "- 语法结构：\n",
    "\n",
    "        eval(strings,globals=None,locals=None)\n",
    "### exec()，基本同eval,但是不返回结果，返回值是None"
   ]
  },
  {
   "cell_type": "code",
   "execution_count": 15,
   "metadata": {},
   "outputs": [
    {
     "name": "stdout",
     "output_type": "stream",
     "text": [
      "300\n",
      "300\n"
     ]
    },
    {
     "data": {
      "text/plain": [
       "True"
      ]
     },
     "execution_count": 15,
     "metadata": {},
     "output_type": "execute_result"
    }
   ],
   "source": [
    "x = 100\n",
    "y = 200\n",
    "z1 = x + y\n",
    "z2 = eval(\"x+y\")\n",
    "print(z1)\n",
    "print(z2)\n",
    "z1 == z2"
   ]
  },
  {
   "cell_type": "code",
   "execution_count": 21,
   "metadata": {},
   "outputs": [
    {
     "name": "stdout",
     "output_type": "stream",
     "text": [
      "z1 =  300\n",
      "z2 =  None\n",
      "x+y = 300\n",
      "z3 =  None\n"
     ]
    }
   ],
   "source": [
    "x = 100\n",
    "y = 200\n",
    "z1 = x + y\n",
    "z2 = exec(\"x+y\")\n",
    "print('z1 = ',z1)\n",
    "print('z2 = ',z2)\n",
    "z3 = exec(\"print('x+y =',x+y)\")\n",
    "print('z3 = ',z3)"
   ]
  },
  {
   "cell_type": "markdown",
   "metadata": {},
   "source": [
    "## 递归函数\n",
    "- 函数直接或者间接地调用自身\n",
    "- 优点：简洁，比较容易理解\n",
    "- 缺点：对递归深度有限制，深度越大，对系统资源消耗越大\n",
    "- Python中有递归限制\n",
    "- 在写递归程序的时候，一定注意递归退出条件\n",
    "- 修改Python的默认递归深度(100)\n",
    "        \n",
    "        import sys\n",
    "        sys.setrecursionlimit(10000)\n",
    "        "
   ]
  },
  {
   "cell_type": "code",
   "execution_count": 22,
   "metadata": {},
   "outputs": [
    {
     "name": "stdout",
     "output_type": "stream",
     "text": [
      "1\n",
      "2\n",
      "3\n",
      "4\n",
      "5\n",
      "6\n",
      "7\n",
      "8\n",
      "9\n",
      "10\n"
     ]
    }
   ],
   "source": [
    "#\n",
    "x = 0\n",
    "def fun():\n",
    "    global x\n",
    "    while x < 10:\n",
    "        x += 1\n",
    "        print(x)\n",
    "        fun()\n",
    "\n",
    "fun()"
   ]
  },
  {
   "cell_type": "code",
   "execution_count": 49,
   "metadata": {},
   "outputs": [
    {
     "data": {
      "text/plain": [
       "120"
      ]
     },
     "execution_count": 49,
     "metadata": {},
     "output_type": "execute_result"
    }
   ],
   "source": [
    "# 使用递归求阶乘\n",
    "# 使用常规的方法，for循环\n",
    "# 5的阶乘 factorial(5)=5*4*3*2*1\n",
    "def fact(n):\n",
    "    # 将阶乘的首个数字置为n\n",
    "    res = n\n",
    "    # 将1到n-1的个数字分别赋值给i，然后用res乘每个i\n",
    "    for i in range(1,n):\n",
    "        res *= i\n",
    "    return res\n",
    "\n",
    "fact(5)"
   ]
  },
  {
   "cell_type": "code",
   "execution_count": 55,
   "metadata": {},
   "outputs": [],
   "source": [
    "# 递归方法\n",
    "# 当n=5时，返回fact(5)=5*fact(4)=120\n",
    "# fact(4)=4*fact(3)=24\n",
    "# fact(3)=3*fact(2)=6\n",
    "# fact(2)=2*fact(1)=2\n",
    "# fact(1)=1\n",
    "def fact1(n):\n",
    "    if n == 1:\n",
    "        return 1\n",
    "    else:\n",
    "        return n * fact1(n-1)"
   ]
  },
  {
   "cell_type": "code",
   "execution_count": 56,
   "metadata": {},
   "outputs": [
    {
     "data": {
      "text/plain": [
       "120"
      ]
     },
     "execution_count": 56,
     "metadata": {},
     "output_type": "execute_result"
    }
   ],
   "source": [
    "fact1(5)"
   ]
  },
  {
   "cell_type": "markdown",
   "metadata": {},
   "source": [
    "### 斐波那契数列\n",
    "- 一列数字，第一个是1，第二个是1，以后每个数字都是它前面两个数字之和\n",
    "- 1，1，2，3，5，8，13，21，34，55，89，...\n",
    "- f(1) = 1,f(2)=1,f(n)=f(n-1)+f(n-2)"
   ]
  },
  {
   "cell_type": "code",
   "execution_count": 13,
   "metadata": {},
   "outputs": [
    {
     "data": {
      "text/plain": [
       "9227465"
      ]
     },
     "execution_count": 13,
     "metadata": {},
     "output_type": "execute_result"
    }
   ],
   "source": [
    "# 斐波那契示例，循环迭代方法\n",
    "def fib11(n):\n",
    "    # 定义3个变量，初始化为1\n",
    "    n1 = n2 = n3 = 1\n",
    "    if n < 1:\n",
    "        return -1\n",
    "    while n > 2:\n",
    "        # 当n>=3时，n3 = n2 + n1，相当于f(3)=f(2)+f(1),\n",
    "        # 然后将n1,n2的值重新初始化，最后将n-1，直到n<=2为止\n",
    "        # 由于代码是从小到大的顺序，下面的推理过程，则需要反过来，\n",
    "        #令当前的n2=上一个n3,当前的n1=上一个n2,而上一个n2恰好是上上个n3，就达到了当前值为其前两个值的加和\n",
    "        #n=6,n3=5+3\n",
    "        #n2 = n3(上一个n3=5）=5\n",
    "        #n1 = n2(上一个n2=3) =3\n",
    "        #\n",
    "        #n=5,n3=4+1=5\n",
    "        #n2(上一个n3=4）=n2=3\n",
    "        #n1 = n2(上一个n2=2) =2\n",
    "        #\n",
    "        # 当n=4 ,n3=n2+n1=3\n",
    "        # n2 =n3(上一个n3)=2\n",
    "        # n1(上一个n2=1) = n1 =1\n",
    "        #n=1\n",
    "        # 当n=3 ,n3=n1+n2=2\n",
    "        # n2=1\n",
    "        # n1=1\n",
    "        n3 = n2 + n1\n",
    "        n1 = n2\n",
    "        n2 = n3\n",
    "        n -= 1\n",
    "        \n",
    "    return n3\n",
    "\n",
    "fib11(35)"
   ]
  },
  {
   "cell_type": "code",
   "execution_count": null,
   "metadata": {},
   "outputs": [],
   "source": []
  },
  {
   "cell_type": "code",
   "execution_count": null,
   "metadata": {},
   "outputs": [],
   "source": [
    "# 递归实现的原理\n",
    "#f(3)=f(2)+f(1)\n",
    "f(1)=1\n",
    "f(2)=1\n",
    "f(3)=f(2)+f(1)=2\n",
    "f(4)=f(3)+f(2)=3\n",
    "f(5)=f(4)+f(3)=5\n",
    "f(6)=f(5)+f(4)=8\n",
    "..."
   ]
  },
  {
   "cell_type": "code",
   "execution_count": 10,
   "metadata": {},
   "outputs": [],
   "source": [
    "# 斐波那契示例\n",
    "def fib1(n):\n",
    "    # 实参不是整数报错\n",
    "    if type(n) != type(5):\n",
    "        return 'Error,please inpurt an interage number.'\n",
    "    # 实参为负数报错\n",
    "    if n <= 0:\n",
    "        return 'Error,please inpurt an interage number bigger than 0.'\n",
    "    \n",
    "    if n == 1 or n == 2:\n",
    "        return 1\n",
    "    return fib1(n-1) + fib1(n-2)"
   ]
  },
  {
   "cell_type": "code",
   "execution_count": 15,
   "metadata": {},
   "outputs": [
    {
     "data": {
      "text/plain": [
       "9227465"
      ]
     },
     "execution_count": 15,
     "metadata": {},
     "output_type": "execute_result"
    }
   ],
   "source": [
    "# 执行35，大概执行了7秒钟\n",
    "fib1(35)"
   ]
  },
  {
   "cell_type": "markdown",
   "metadata": {},
   "source": [
    "### 汉诺塔游戏\n",
    "- 将X上的64个圆盘移动到Z上\n",
    "- 问题分解\n",
    "    - 将X上的前63个，移到Y\n",
    "    - 将X的第64个移到Z\n",
    "    - 将Y上的63个移到Z\n",
    "    - 所以拆解为两个问题：\n",
    "        - 一：将X上的63个，借助Z，移到Y\n",
    "            - 分解：\n",
    "                - 将X上的前62，移到Z\n",
    "                - 将X的第63个移到Y\n",
    "                - 将Z上的62个移到Y\n",
    "            - 拆解为两个问题\n",
    "                - 一：将X上的62，借助Y，移到Z\n",
    "                    - ...\n",
    "                - 二：将Z上的62，借助X，移到Y\n",
    "                    - ...\n",
    "        - 二：将Y上的63个，借助X，移到Z\n",
    "            - 分解：\n",
    "                - 将Y上的前62个，移到X\n",
    "                - 将Y上第63个，移到Z\n",
    "                - 将X上的62个，移到Z\n",
    "            - 拆解为两个问题：\n",
    "                - 一：将Y上的62个，借助Z，移到X\n",
    "                    - ...\n",
    "                - 二：将X上62个，借助Y，移到Z\n",
    "                    - ...\n",
    "    - 所以就形成了迭代"
   ]
  },
  {
   "cell_type": "code",
   "execution_count": 32,
   "metadata": {},
   "outputs": [],
   "source": [
    "def hannoi(n,x,y,z):\n",
    "    counter = 0\n",
    "    if n == 1:\n",
    "        print(x,'-->',z)\n",
    "    else:\n",
    "        hannoi(n-1,x,z,y) # 第一步，先将X上的n-1个，从X，借助Z 移到 Y\n",
    "        print(x,'-->',z) # 第二步，将X上的第n个，从X 移到Z\n",
    "        hannoi(n-1,y,x,z) # 第三步，将Y上的n-1个，从Y，借助X 移到Z"
   ]
  },
  {
   "cell_type": "code",
   "execution_count": 33,
   "metadata": {},
   "outputs": [
    {
     "name": "stdout",
     "output_type": "stream",
     "text": [
      "X --> Z\n",
      "X --> Y\n",
      "Z --> Y\n",
      "X --> Z\n",
      "Y --> X\n",
      "Y --> Z\n",
      "X --> Z\n"
     ]
    }
   ],
   "source": [
    "hannoi(3,'X','Y','Z')"
   ]
  },
  {
   "cell_type": "code",
   "execution_count": null,
   "metadata": {},
   "outputs": [],
   "source": []
  }
 ],
 "metadata": {
  "kernelspec": {
   "display_name": "Python 3",
   "language": "python",
   "name": "python3"
  },
  "language_info": {
   "codemirror_mode": {
    "name": "ipython",
    "version": 3
   },
   "file_extension": ".py",
   "mimetype": "text/x-python",
   "name": "python",
   "nbconvert_exporter": "python",
   "pygments_lexer": "ipython3",
   "version": "3.6.5"
  }
 },
 "nbformat": 4,
 "nbformat_minor": 2
}
