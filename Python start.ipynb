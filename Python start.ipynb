{
 "cells": [
  {
   "cell_type": "markdown",
   "metadata": {},
   "source": [
    "# python_for\n",
    "## python 基础\n",
    "- Python 编程语言\n",
    "    - 代码：人类语言\n",
    "    - Python解释器\n",
    "    - 流程：\n",
    "        - 写代码\n",
    "        - 执行：有python解释器吧命令翻译给机器\n",
    "    - Python简史\n",
    "        - 1989年，Guido van Rossum\n",
    "        - 2008年 python3.0 \n",
    "        - 2014年 宣布2.7支持到2020\n",
    "        - 2017年 python崛起\n",
    "    - Python 特点\n",
    "        - 速度问题：相比于C、Java运行速度很慢，主要用于对速度要求不高的领域\n",
    "    - python应用领域：\n",
    "        - 全能\n",
    "    - Python设计哲学\n",
    "        - 平衡发展、样样通、简洁明了\n",
    "    - 环境\n",
    "        - anaconda + pycharm\n",
    "        - python3.6\n",
    "        - 环境安装：\n",
    "            - http://www.cnblogs.com/zhouzhishuai\n",
    "        - 操作系统\n",
    "            - 学习环境 虚拟机Linux\n",
    "     - Python 执行方式\n",
    "         - 本质Python是一堆命令的集合\n",
    "         - 执行过程是逐行执行，遇到问题终止\n",
    "         - \n",
    "    \n"
   ]
  },
  {
   "cell_type": "code",
   "execution_count": 1,
   "metadata": {},
   "outputs": [
    {
     "name": "stdout",
     "output_type": "stream",
     "text": [
      "Hello Word\n"
     ]
    }
   ],
   "source": [
    "print('Hello Word')"
   ]
  },
  {
   "cell_type": "markdown",
   "metadata": {},
   "source": []
  }
 ],
 "metadata": {
  "kernelspec": {
   "display_name": "Python 3",
   "language": "python",
   "name": "python3"
  },
  "language_info": {
   "codemirror_mode": {
    "name": "ipython",
    "version": 3
   },
   "file_extension": ".py",
   "mimetype": "text/x-python",
   "name": "python",
   "nbconvert_exporter": "python",
   "pygments_lexer": "ipython3",
   "version": "3.6.5"
  }
 },
 "nbformat": 4,
 "nbformat_minor": 2
}
