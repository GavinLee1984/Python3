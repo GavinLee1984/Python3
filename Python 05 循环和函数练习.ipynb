{
 "cells": [
  {
   "cell_type": "code",
   "execution_count": null,
   "metadata": {},
   "outputs": [],
   "source": [
    "# 打印出一个矩形\n",
    "'''\n",
    "* * * * * * * *\n",
    "*             *\n",
    "*             *\n",
    "*             *\n",
    "* * * * * * * *\n",
    "'''"
   ]
  },
  {
   "cell_type": "code",
   "execution_count": 19,
   "metadata": {},
   "outputs": [
    {
     "name": "stdout",
     "output_type": "stream",
     "text": [
      "* * * * * * * * \n",
      "*             * \n",
      "*             * \n",
      "*             * \n",
      "* * * * * * * * \n"
     ]
    }
   ],
   "source": [
    "# 打印矩形\n",
    "# i控制行数，range(5)表示5行\n",
    "for i in range(5):\n",
    "    # n控制列数，range(8)表示8列，此处的范围值不能使用i来表示，因为i是个变量\n",
    "    for n in range(8):\n",
    "        # 如果是第一行、第五行，打印8个✳\n",
    "        if i == 0 or i == 4:\n",
    "            print('* ',end='')\n",
    "            \n",
    "        else:\n",
    "            # 如果是第2-4行，且第1和8列打印星号\n",
    "            if n == 0 or n == 7:\n",
    "                print('* ',end='')\n",
    "            else:\n",
    "                # 如果是第2-7列，打印空格\n",
    "                print('  ',end='')\n",
    "    print()"
   ]
  },
  {
   "cell_type": "code",
   "execution_count": 20,
   "metadata": {},
   "outputs": [],
   "source": [
    "# 打印直角三角形1\n",
    "'''\n",
    "*\n",
    "* *\n",
    "* * *\n",
    "* * * *\n",
    "* * * * *\n",
    "'''"
   ]
  },
  {
   "cell_type": "code",
   "execution_count": 22,
   "metadata": {},
   "outputs": [
    {
     "name": "stdout",
     "output_type": "stream",
     "text": [
      "* \n",
      "* * \n",
      "* * * \n",
      "* * * * \n",
      "* * * * * \n"
     ]
    }
   ],
   "source": [
    "# 直角1\n",
    "for i in range(5):\n",
    "    for n in range(i+1):\n",
    "        if i == 0 or i == i:\n",
    "            print('* ',end='')\n",
    "    print()"
   ]
  },
  {
   "cell_type": "code",
   "execution_count": null,
   "metadata": {},
   "outputs": [],
   "source": [
    "# 打印直角三角形2\n",
    "'''\n",
    "* * * * * \n",
    "* * * * \n",
    "* * * \n",
    "* * \n",
    "*\n",
    "'''"
   ]
  },
  {
   "cell_type": "code",
   "execution_count": 31,
   "metadata": {},
   "outputs": [
    {
     "name": "stdout",
     "output_type": "stream",
     "text": [
      "* * * * * \n",
      "* * * * \n",
      "* * * \n",
      "* * \n",
      "* \n"
     ]
    }
   ],
   "source": [
    "# 三角形2\n",
    "for i in range(5):\n",
    "    # n控制列数，当i=0时，为第一行，n有5列，打印5个星号\n",
    "    for  n in range(5-i):\n",
    "        print(\"* \",end='')\n",
    "    print()"
   ]
  },
  {
   "cell_type": "code",
   "execution_count": null,
   "metadata": {},
   "outputs": [],
   "source": [
    "# 打印直角三角形3\n",
    "'''\n",
    "* * * * * \n",
    "   * * * * \n",
    "     * * * \n",
    "       * * \n",
    "         *\n",
    "'''"
   ]
  },
  {
   "cell_type": "code",
   "execution_count": 28,
   "metadata": {},
   "outputs": [
    {
     "name": "stdout",
     "output_type": "stream",
     "text": [
      "  * * * * * \n",
      "    * * * * \n",
      "      * * * \n",
      "        * * \n",
      "          * \n"
     ]
    }
   ],
   "source": [
    "# 三角形3\n",
    "# 结合直角三角形2\n",
    "for i in range(5):\n",
    "    # 第一步先打印出每行代替星号的空格\n",
    "    # 第一行没有空格，第二行有一个，以下以此类推\n",
    "    for m in range(i+1):\n",
    "        print(' ',end=' ')\n",
    "    # 第二步，打印每行所需要的星号\n",
    "    for n in range(5-i):\n",
    "        print('* ',end='')\n",
    "        \n",
    "    print()"
   ]
  },
  {
   "cell_type": "code",
   "execution_count": 32,
   "metadata": {},
   "outputs": [],
   "source": [
    "# 直角三角形4\n",
    "'''\n",
    "        *\n",
    "      * *\n",
    "    * * *\n",
    "  * * * *\n",
    "* * * * *\n",
    "'''"
   ]
  },
  {
   "cell_type": "code",
   "execution_count": 35,
   "metadata": {
    "scrolled": true
   },
   "outputs": [
    {
     "name": "stdout",
     "output_type": "stream",
     "text": [
      "          * \n",
      "        * * \n",
      "      * * * \n",
      "    * * * * \n",
      "  * * * * * \n"
     ]
    }
   ],
   "source": [
    "# 三角形4\n",
    "# 结合三角形1\n",
    "for i in range(5):\n",
    "    # 打印每行星号前的空格，第一行有4个，依次类减\n",
    "    for m in range(5-i):\n",
    "        print('  ',end='')\n",
    "    # 打印每行的星号\n",
    "    for n in range(i+1):\n",
    "        print('* ',end='')\n",
    "    print()"
   ]
  },
  {
   "cell_type": "code",
   "execution_count": null,
   "metadata": {},
   "outputs": [],
   "source": [
    "# 打印等腰三角形\n",
    "'''\n",
    "     *\n",
    "    * *\n",
    "   * * *\n",
    "  * * * *\n",
    " * * * * *\n",
    "* * * * * *\n",
    "'''"
   ]
  },
  {
   "cell_type": "code",
   "execution_count": 42,
   "metadata": {},
   "outputs": [
    {
     "name": "stdout",
     "output_type": "stream",
     "text": [
      "     * \n",
      "    * * \n",
      "   * * * \n",
      "  * * * * \n",
      " * * * * * \n",
      "* * * * * * \n"
     ]
    }
   ],
   "source": [
    "#\n",
    "for i in range(6):\n",
    "    for m in range(6-i-1):\n",
    "        print(' ',end='')\n",
    "    \n",
    "    for n in range(i+1):\n",
    "        print('* ',end='')\n",
    "    print()"
   ]
  },
  {
   "cell_type": "code",
   "execution_count": 81,
   "metadata": {},
   "outputs": [
    {
     "name": "stdout",
     "output_type": "stream",
     "text": [
      "    * \n",
      "   * * \n",
      "  * * * \n",
      " * * * * \n",
      "* * * * * \n"
     ]
    }
   ],
   "source": [
    "# 将上述代码封装进一个等腰三角形图形生成器\n",
    "# 函数变量为底边的边长\n",
    "def Triangle(len):\n",
    "    '''\n",
    "    三角形图形生成器说明\n",
    "    :param len：表示三角形底边的边长\n",
    "    :return：没有返回值\n",
    "    '''\n",
    "    len = int(len)\n",
    "    for i in range(len):\n",
    "        for m in range(len-i-1):\n",
    "            print(' ',end='')\n",
    "    \n",
    "        for n in range(i+1):\n",
    "            print('* ',end='')\n",
    "        print()\n",
    "    return \n",
    "Triangle(5)"
   ]
  },
  {
   "cell_type": "code",
   "execution_count": null,
   "metadata": {},
   "outputs": [],
   "source": [
    "# 打印倒三角\n",
    "'''\n",
    "* * * * *\n",
    " * * * *\n",
    "  * * *\n",
    "   * *\n",
    "    *\n",
    "'''"
   ]
  },
  {
   "cell_type": "code",
   "execution_count": 85,
   "metadata": {},
   "outputs": [
    {
     "name": "stdout",
     "output_type": "stream",
     "text": [
      "* * * * * \n",
      " * * * * \n",
      "  * * * \n",
      "   * * \n",
      "    * \n"
     ]
    }
   ],
   "source": [
    "# 倒三角\n",
    "for i in range(5):\n",
    "    for n in range(i):\n",
    "        print(' ',end='')\n",
    "    for m in range(5-i):\n",
    "        print('* ',end='')\n",
    "    print()"
   ]
  },
  {
   "cell_type": "code",
   "execution_count": null,
   "metadata": {},
   "outputs": [],
   "source": [
    "# 打印空心等腰三角形\n",
    "'''\n",
    "     *\n",
    "    * *\n",
    "   *   *\n",
    "  *     *\n",
    " *       *\n",
    "* * * * * *\n",
    "'''"
   ]
  },
  {
   "cell_type": "code",
   "execution_count": 57,
   "metadata": {},
   "outputs": [
    {
     "name": "stdout",
     "output_type": "stream",
     "text": [
      "     * \n",
      "    * * \n",
      "   *   * \n",
      "  *     * \n",
      " *       * \n",
      "* * * * * * \n"
     ]
    }
   ],
   "source": [
    "# 根据上列，变通以下条件\n",
    "# 需要先将第一行和最后一行打印出来\n",
    "# 其他各行，根据行号，打印第一列和最后一列，其余各列打印空格\n",
    "# 然后打印出每行首个星号前的空格\n",
    "# 根据上例的等腰三角形，首行的星号和末行中间位置相差n-1个空格\n",
    "for i in range(6):\n",
    "    # 打印每行前的空格\n",
    "    for m in range(6-i-1):\n",
    "        print(' ',end='')\n",
    "    # 打印第一行和最后一行\n",
    "    for n in range(i+1):\n",
    "        if i == 0 or i == 5:\n",
    "            print('* ',end='')\n",
    "        else:\n",
    "            # 其他行，只首列和未列打印星号，其他各列打印空格\n",
    "            if n == 0 or n == i:\n",
    "                print('* ',end='')\n",
    "            else:\n",
    "                print('  ',end='')\n",
    "    print()"
   ]
  },
  {
   "cell_type": "code",
   "execution_count": 66,
   "metadata": {},
   "outputs": [
    {
     "name": "stdout",
     "output_type": "stream",
     "text": [
      "    * \n",
      "   * * \n",
      "  *   * \n",
      " *     * \n",
      "* * * * * \n"
     ]
    }
   ],
   "source": [
    "# 将上述代码封装进函数\n",
    "def Triangle2(len):\n",
    "    len = int(len)\n",
    "    for i in range(len):\n",
    "        for m in range(len-i-1):\n",
    "            print(' ',end='')\n",
    "    \n",
    "        for n in range(i+1):\n",
    "            if i == 0 or i == (len-1):\n",
    "                print('* ',end='')\n",
    "            else:\n",
    "                if n == 0 or n == i:\n",
    "                    print('* ',end='')\n",
    "                else:\n",
    "                    print('  ',end='')\n",
    "        print()\n",
    "    return\n",
    "Triangle2(5)"
   ]
  },
  {
   "cell_type": "code",
   "execution_count": null,
   "metadata": {},
   "outputs": [],
   "source": [
    "# 打印空心倒三角\n",
    "'''\n",
    "\n",
    "'''"
   ]
  },
  {
   "cell_type": "code",
   "execution_count": 80,
   "metadata": {},
   "outputs": [
    {
     "name": "stdout",
     "output_type": "stream",
     "text": [
      "* * * * * * \n",
      " *       * \n",
      "  *     * \n",
      "   *   * \n",
      "    * * \n",
      "     * \n"
     ]
    }
   ],
   "source": [
    "for i in range(6):\n",
    "    # 打印每行前的空格\n",
    "    for m in range(i):\n",
    "        print(' ',end='')\n",
    "    # 打印第一行和最后一行\n",
    "    for n in range(6-i):\n",
    "        if i == 0 or i == 5:\n",
    "            print('* ',end='')\n",
    "        else:\n",
    "            # 其他行，只首列和未列打印星号，其他各列打印空格\n",
    "            if n == 0 or n == (6-i-1):\n",
    "                print('* ',end='')\n",
    "            else:\n",
    "                print('  ',end='')\n",
    "    print()"
   ]
  },
  {
   "cell_type": "code",
   "execution_count": null,
   "metadata": {},
   "outputs": [],
   "source": [
    "# 打印菱形\n",
    "'''\n",
    "    * \n",
    "   * * \n",
    "  * * * \n",
    " * * * * \n",
    "* * * * *\n",
    " * * * *\n",
    "  * * *\n",
    "   * *\n",
    "    *\n",
    "'''"
   ]
  },
  {
   "cell_type": "code",
   "execution_count": 95,
   "metadata": {},
   "outputs": [
    {
     "name": "stdout",
     "output_type": "stream",
     "text": [
      "    * \n",
      "   * * \n",
      "  * * * \n",
      " * * * * \n",
      "* * * * * \n",
      " * * * * \n",
      "  * * * \n",
      "   * * \n",
      "    * \n"
     ]
    }
   ],
   "source": [
    "# 结合等腰三角形，菱形就相当于一个正的边长n的三角形加上一个倒的底边为n-1的三角形\n",
    "# 所以，第一个for循环打印正三角形，第二个for循环打印倒三角形\n",
    "# 打印正三角\n",
    "for i in range(5):\n",
    "    for m in range(5-i-1):\n",
    "        print(' ',end='')\n",
    "        \n",
    "    for a in range(i+1):\n",
    "        print('* ',end='')\n",
    "    print()\n",
    "# 打印倒三角\n",
    "for j in range(4):\n",
    "    # 与正常打印大三角不同，此处每行需要多打印一个空格\n",
    "    for n in range(j+1):\n",
    "        print(' ',end='')\n",
    "        \n",
    "    for b in range(4-j):\n",
    "        print('* ',end='')\n",
    "    print()"
   ]
  },
  {
   "cell_type": "code",
   "execution_count": null,
   "metadata": {},
   "outputs": [],
   "source": [
    "# 打印空心菱形\n",
    "'''\n",
    "    * \n",
    "   * * \n",
    "  *   * \n",
    " *     * \n",
    "*       *\n",
    " *     *\n",
    "  *   *\n",
    "   * *\n",
    "    *\n",
    "'''"
   ]
  },
  {
   "cell_type": "code",
   "execution_count": 113,
   "metadata": {},
   "outputs": [
    {
     "name": "stdout",
     "output_type": "stream",
     "text": [
      "    * \n",
      "   * * \n",
      "  *   * \n",
      " *     * \n",
      "*       * \n",
      " *     * \n",
      "  *   * \n",
      "   * * \n",
      "    * \n"
     ]
    }
   ],
   "source": [
    "# 结合空心的三角形\n",
    "for i in range(5):\n",
    "    for m in range(5-i-1):\n",
    "        print(' ',end='')\n",
    "        \n",
    "    for a in range(i+1):\n",
    "        if a == 0 or a == i:\n",
    "             print('* ',end='')\n",
    "        else:\n",
    "            print('  ',end='')\n",
    "    print()\n",
    "\n",
    "for j in range(4):\n",
    "    for n in range(j+1):\n",
    "        print(' ',end='')\n",
    "        \n",
    "    for b in range(4-j):\n",
    "        if b == 0 or b == (4-j-1) :\n",
    "            print('* ',end='')\n",
    "        else:\n",
    "            print('  ',end='')\n",
    "    print()"
   ]
  },
  {
   "cell_type": "code",
   "execution_count": 116,
   "metadata": {},
   "outputs": [
    {
     "name": "stdout",
     "output_type": "stream",
     "text": [
      "    * \n",
      "   * * \n",
      "  *   * \n",
      " *     * \n",
      "*       * \n",
      " *     * \n",
      "  *   * \n",
      "   * * \n",
      "    * \n"
     ]
    }
   ],
   "source": [
    "# 空心菱形图形生成器函数\n",
    "def Rhombus(len):\n",
    "    '''\n",
    "    '''\n",
    "    len = int(len)\n",
    "    for i in range(len):\n",
    "        for m in range(len-i-1):\n",
    "            print(' ',end='')\n",
    "        \n",
    "        for a in range(i+1):\n",
    "            if a == 0 or a == i:\n",
    "                 print('* ',end='')\n",
    "            else:\n",
    "                print('  ',end='')\n",
    "        print()\n",
    "\n",
    "    for j in range(len-1):\n",
    "        for n in range(j+1):\n",
    "            print(' ',end='')\n",
    "        \n",
    "        for b in range(len-1-j):\n",
    "            if b == 0 or b == (len-1-j-1) :\n",
    "                print('* ',end='')\n",
    "            else:\n",
    "                print('  ',end='')\n",
    "        print()\n",
    "    return\n",
    "Rhombus(5)"
   ]
  },
  {
   "cell_type": "code",
   "execution_count": null,
   "metadata": {},
   "outputs": [],
   "source": [
    "# 打印梯形\n",
    "'''\n",
    "    * * * *\n",
    "   * * * * *\n",
    "  * * * * * *\n",
    " * * * * * * *\n",
    "* * * * * * * *\n",
    "'''"
   ]
  },
  {
   "cell_type": "code",
   "execution_count": 130,
   "metadata": {},
   "outputs": [
    {
     "name": "stdout",
     "output_type": "stream",
     "text": [
      "    * * * * \n",
      "   * * * * * \n",
      "  * * * * * * \n",
      " * * * * * * * \n",
      "* * * * * * * * \n"
     ]
    }
   ],
   "source": [
    "# \n",
    "for i in range(5):\n",
    "    for n in range(5-i-1):\n",
    "        print(' ',end='')\n",
    "    for m in range(5-i,9):\n",
    "        print('* ',end='')\n",
    "    print()"
   ]
  },
  {
   "cell_type": "code",
   "execution_count": 162,
   "metadata": {},
   "outputs": [
    {
     "name": "stdout",
     "output_type": "stream",
     "text": [
      "    * * * * * \n",
      "   *         * \n",
      "  *           * \n",
      " *             * \n",
      "* * * * * * * * * \n"
     ]
    }
   ],
   "source": [
    "#\n",
    "for i in range(5):\n",
    "    for n in range(5-i-1):\n",
    "        print(' ',end='')\n",
    "    for m in range(5-i,10):\n",
    "        if i == 0 or i == 4:\n",
    "            print('* ',end='')\n",
    "        else:\n",
    "            if m == (5-i) or m == 9:\n",
    "                print('* ',end='')\n",
    "            else:\n",
    "                print('  ',end='')\n",
    "    print()"
   ]
  },
  {
   "cell_type": "code",
   "execution_count": null,
   "metadata": {},
   "outputs": [],
   "source": [
    "i=1  m[4,9) 2 5\n",
    "i=2  m[3,9] 3 6\n",
    "i=3  m[2,9] 4 7"
   ]
  },
  {
   "cell_type": "code",
   "execution_count": 163,
   "metadata": {},
   "outputs": [],
   "source": [
    "# 打印字母D\n",
    "'''\n",
    "* * \n",
    "*    *\n",
    "*    *\n",
    "* *\n",
    "'''"
   ]
  },
  {
   "cell_type": "code",
   "execution_count": 173,
   "metadata": {},
   "outputs": [
    {
     "name": "stdout",
     "output_type": "stream",
     "text": [
      "* * \n",
      "*    *\n",
      "*    *\n",
      "* * \n"
     ]
    }
   ],
   "source": [
    "# 字母D，按行打印\n",
    "for i in range(4):\n",
    "    for n in range(3):\n",
    "        if i == 0 or i == 3:\n",
    "            if n == 0 or n == 1:\n",
    "                print('* ',end='')\n",
    "        else:\n",
    "            if n == 0:\n",
    "                print('* ',end='')\n",
    "            elif n == 1:\n",
    "                print('  ',end='')\n",
    "            else:\n",
    "                print(' *',end='')\n",
    "            \n",
    "    print()"
   ]
  },
  {
   "cell_type": "code",
   "execution_count": 179,
   "metadata": {},
   "outputs": [
    {
     "name": "stdout",
     "output_type": "stream",
     "text": [
      "* * \n",
      "*    *\n",
      "*    *\n",
      "* * \n"
     ]
    }
   ],
   "source": [
    "# 字母D，按列打印\n",
    "for i in range(4):\n",
    "    for j in range(3):\n",
    "        if j == 0:\n",
    "            print('* ',end='')\n",
    "        elif j == 1:\n",
    "            if i == 0 or i == 3:\n",
    "                print('* ',end='')\n",
    "            else:\n",
    "                print('  ',end='')\n",
    "        else:\n",
    "            if i == 1 or i == 2:\n",
    "                print(' *',end='')\n",
    "    print()"
   ]
  },
  {
   "cell_type": "code",
   "execution_count": 181,
   "metadata": {},
   "outputs": [
    {
     "name": "stdout",
     "output_type": "stream",
     "text": [
      "* * \n",
      "*    *\n",
      "*    *\n",
      "* * \n",
      "*    *\n",
      "*    *\n",
      "* * \n"
     ]
    }
   ],
   "source": [
    "# 字母B，两个D拼接\n",
    "for i in range(3):\n",
    "    for n in range(3):\n",
    "        if i == 0:\n",
    "            if n == 0 or n == 1:\n",
    "                print('* ',end='')\n",
    "        else:\n",
    "            if n == 0:\n",
    "                print('* ',end='')\n",
    "            elif n == 1:\n",
    "                print('  ',end='')\n",
    "            else:\n",
    "                print(' *',end='')\n",
    "            \n",
    "    print()\n",
    "    \n",
    "for j in range(4):\n",
    "    for m in range(3):\n",
    "        if j == 0 or j == 3:\n",
    "            if m == 0 or m == 1:\n",
    "                print('* ',end='')\n",
    "        else:\n",
    "            if m == 0:\n",
    "                print('* ',end='')\n",
    "            elif m == 1:\n",
    "                print('  ',end='')\n",
    "            else:\n",
    "                print(' *',end='')\n",
    "            \n",
    "    print()"
   ]
  },
  {
   "cell_type": "code",
   "execution_count": 186,
   "metadata": {},
   "outputs": [
    {
     "name": "stdout",
     "output_type": "stream",
     "text": [
      "* * \n",
      "*    *\n",
      "*    *\n",
      "* * \n",
      "*    *\n",
      "*    *\n",
      "* * \n"
     ]
    }
   ],
   "source": [
    "# 字母B，直接按列打印\n",
    "for i in range(7):\n",
    "    for j in range(3):\n",
    "        if j == 0:\n",
    "            print('* ',end='')\n",
    "        elif j == 1:\n",
    "            if i == 0 or i == 3 or i == 6:\n",
    "                print('* ',end='')\n",
    "            else:\n",
    "                print('  ',end='')\n",
    "        else:\n",
    "            if i == 1 or i == 2 or i == 4 or i == 5:\n",
    "                print(' *',end='')\n",
    "    print()"
   ]
  },
  {
   "cell_type": "code",
   "execution_count": 187,
   "metadata": {},
   "outputs": [
    {
     "name": "stdout",
     "output_type": "stream",
     "text": [
      "* * \n",
      "*    *\n",
      "*    *\n",
      "* * \n",
      "*    *\n"
     ]
    }
   ],
   "source": [
    "# 字母R，直接按列打印\n",
    "for i in range(5):\n",
    "    for j in range(3):\n",
    "        if j == 0:\n",
    "            print('* ',end='')\n",
    "        elif j == 1:\n",
    "            if i == 0 or i == 3:\n",
    "                print('* ',end='')\n",
    "            else:\n",
    "                print('  ',end='')\n",
    "        else:\n",
    "            if i == 1 or i == 2 or i == 4 or i == 5:\n",
    "                print(' *',end='')\n",
    "    print()"
   ]
  },
  {
   "cell_type": "code",
   "execution_count": null,
   "metadata": {},
   "outputs": [],
   "source": [
    "# A\n",
    "'''\n",
    "     *\n",
    "    * *\n",
    "   *   *\n",
    "  * * * *\n",
    " *       *\n",
    "*         *\n",
    "'''"
   ]
  },
  {
   "cell_type": "code",
   "execution_count": 200,
   "metadata": {},
   "outputs": [
    {
     "name": "stdout",
     "output_type": "stream",
     "text": [
      "     * \n",
      "    * * \n",
      "   *   * \n",
      "  * * * * \n",
      " *       * \n",
      "*         * \n"
     ]
    }
   ],
   "source": [
    "#\n",
    "for i in range(6):\n",
    "    for j in range(6-i-1):\n",
    "        print(' ',end='')\n",
    "        \n",
    "    for n in range(i+1):\n",
    "        if i != 3:\n",
    "            if n == 0 or n == i:\n",
    "                print('* ',end='')\n",
    "            else:\n",
    "                print('  ',end='')\n",
    "        else:\n",
    "            print('* ',end='')\n",
    "    print()"
   ]
  },
  {
   "cell_type": "code",
   "execution_count": 208,
   "metadata": {},
   "outputs": [
    {
     "name": "stdout",
     "output_type": "stream",
     "text": [
      "     * \n",
      "    * * \n",
      "   *   * \n",
      "  * * * * \n",
      " *       * \n",
      "*         * \n"
     ]
    }
   ],
   "source": [
    "# 字母A图形生成器\n",
    "def Aaa(len):\n",
    "    '''\n",
    "    函数Aaa可以生成字母A的图案\n",
    "    len：可以看作是A的三角形底边边长，输入整数\n",
    "    '''\n",
    "    len = int(len)\n",
    "    for i in range(len):\n",
    "        for j in range(len-i-1):\n",
    "            print(' ',end='')\n",
    "        \n",
    "        for n in range(i+1):\n",
    "            if i != round((len/2)):\n",
    "                if n == 0 or n == i:\n",
    "                    print('* ',end='')\n",
    "                else:\n",
    "                    print('  ',end='')\n",
    "            else:\n",
    "                print('* ',end='')\n",
    "        print()\n",
    "    return\n",
    "Aaa(6)"
   ]
  },
  {
   "cell_type": "code",
   "execution_count": null,
   "metadata": {},
   "outputs": [],
   "source": [
    "# 字母G\n",
    "G\n",
    "'''\n",
    " * * *\n",
    "*      *\n",
    "*\n",
    "*\n",
    "*    * *\n",
    "*      *\n",
    " * * * * \n",
    "'''"
   ]
  }
 ],
 "metadata": {
  "kernelspec": {
   "display_name": "Python 3",
   "language": "python",
   "name": "python3"
  },
  "language_info": {
   "codemirror_mode": {
    "name": "ipython",
    "version": 3
   },
   "file_extension": ".py",
   "mimetype": "text/x-python",
   "name": "python",
   "nbconvert_exporter": "python",
   "pygments_lexer": "ipython3",
   "version": "3.6.5"
  }
 },
 "nbformat": 4,
 "nbformat_minor": 2
}
