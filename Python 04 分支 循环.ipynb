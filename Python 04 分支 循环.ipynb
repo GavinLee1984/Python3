{
 "cells": [
  {
   "cell_type": "markdown",
   "metadata": {},
   "source": [
    "# 分支\n",
    "- if条件基本表达式：\n",
    "    - if 条件表达式:\n",
    "        语句一\n",
    "        语句二\n",
    "        ...\n",
    "    - 缩进的范围内所有的语句都是该if语句的逻辑范围\n",
    "    - 表达式后面的冒号 ：，不能省略\n",
    "    - 表达式为Ture，执行后面的语句\n",
    "    - 条件表达式的计算结果必须是布尔值的表达式"
   ]
  },
  {
   "cell_type": "code",
   "execution_count": 2,
   "metadata": {},
   "outputs": [
    {
     "name": "stdout",
     "output_type": "stream",
     "text": [
      "孩纸，欢迎你\n",
      "欢迎下地狱\n",
      "哈哈哈哈\n",
      "上车了，小司机们！！！\n"
     ]
    }
   ],
   "source": [
    "#if语句\n",
    "#对年龄进行判断\n",
    "age = 20\n",
    "if age < 18:\n",
    "    print('孩子请请你的家长来')\n",
    "    print('我们不带你玩')\n",
    "    print('你是未成年')\n",
    "if age >= 18:\n",
    "    print('孩纸，欢迎你')\n",
    "    print('欢迎下地狱')\n",
    "    print('哈哈哈哈')\n",
    "print('上车了，小司机们！！！')    "
   ]
  },
  {
   "cell_type": "markdown",
   "metadata": {},
   "source": [
    "## 双向分支\n",
    "- if ... else ...条件判断语句\n",
    "    -语法结构：\n",
    "    \n",
    "        if 条件表达式:\n",
    "            语句1\n",
    "            语句2\n",
    "            ...\n",
    "         else:\n",
    "             语句3\n",
    "             语句4\n",
    "             ...\n",
    "- 双线分支有两个分支判断，当条件表达式为True，执行if下语句；否则执行else下语句\n",
    "- if else条件表达式只会执行其中一个分支"
   ]
  },
  {
   "cell_type": "code",
   "execution_count": 5,
   "metadata": {},
   "outputs": [
    {
     "name": "stdout",
     "output_type": "stream",
     "text": [
      "请输入你的性别：女\n",
      "你输入的性别的是：女\n",
      "今天是你的节日，来吃糖吧！！！\n",
      "开始上课喽！\n"
     ]
    }
   ],
   "source": [
    "#练习\n",
    "#使用input()函数，接受用户动态输入\n",
    "#根据性别进行判断\n",
    "gender = input(\"请输入你的性别：\") #使用input()函数，\n",
    "gender = str(gender) #对输入的字符用str()进行字符串转化\n",
    "print(\"你输入的性别的是：{0}\".format(gender))\n",
    "#判断，如果是男，打印结果\n",
    "if gender == '男':\n",
    "    print('来来，今天虽然不是你的节日，我们来编编码')\n",
    "    print('走起')\n",
    "#判断，如果是女，打印结果\n",
    "else:\n",
    "    print(\"今天是你的节日，来吃糖吧！！！\")\n",
    "#条件循环结束后，打印\n",
    "print(\"开始上课喽！\")\n",
    "\n"
   ]
  },
  {
   "cell_type": "code",
   "execution_count": 9,
   "metadata": {},
   "outputs": [
    {
     "name": "stdout",
     "output_type": "stream",
     "text": [
      "请输入一个正整数: 12\n"
     ]
    },
    {
     "data": {
      "text/plain": [
       "str"
      ]
     },
     "execution_count": 9,
     "metadata": {},
     "output_type": "execute_result"
    }
   ],
   "source": [
    "#关于input()输入值的类型和返回值类型的不同\n",
    "age = input(\"请输入一个正整数: \")\n",
    "#使用type()函数，查看input 的返回值类型\n",
    "type(age)\n",
    "#虽然输入的是12.\n",
    "#但是返回值的类型并不是int的整数型\n",
    "#所以在实际使用中，对input的返回值进行处理"
   ]
  },
  {
   "cell_type": "markdown",
   "metadata": {},
   "source": [
    "## 多路分支\n",
    "- if条件有多个分支条件\n",
    "- 语法结构\n",
    "\n",
    "        if 条件表达式:\n",
    "            语句一\n",
    "            语句二\n",
    "            ...\n",
    "        elif:\n",
    "            语句3\n",
    "            ...\n",
    "        elif:\n",
    "             语句4\n",
    "             ...\n",
    "         else：\n",
    "             语句5\n",
    "    - elif可以有多个\n",
    "    - else可以没有\n",
    "    - 同双向分支一样，只会执行其中一个分支"
   ]
  },
  {
   "cell_type": "code",
   "execution_count": 2,
   "metadata": {},
   "outputs": [
    {
     "name": "stdout",
     "output_type": "stream",
     "text": [
      "请输入学生的成绩： 43\n",
      "你被开除了\n",
      "Over\n"
     ]
    }
   ],
   "source": [
    "#练习\n",
    "#根据学生的成绩，打印\n",
    "score = input(\"请输入学生的成绩： \")\n",
    "#把输入的数字转化为整数\n",
    "score = int(score)\n",
    "\n",
    "#对成绩进行判定\n",
    "if score >= 90:\n",
    "    print('A')\n",
    "elif score >= 80:\n",
    "    print('B')\n",
    "elif score >= 70:\n",
    "    print('C')\n",
    "elif score >= 60:\n",
    "    print('D')\n",
    "else:\n",
    "    print('你被开除了')\n",
    "print('Over')\n"
   ]
  },
  {
   "cell_type": "code",
   "execution_count": null,
   "metadata": {},
   "outputs": [],
   "source": []
  },
  {
   "cell_type": "markdown",
   "metadata": {},
   "source": [
    "# 循环\n",
    "- 循环的分类\n",
    "- for,while\n",
    "\n",
    "## for循环\n",
    "-for循环语法结构\n",
    "\n",
    "        for 变量 in 序列:\n",
    "            语句一\n",
    "            语句二\n",
    "            ..."
   ]
  },
  {
   "cell_type": "code",
   "execution_count": 4,
   "metadata": {},
   "outputs": [
    {
     "name": "stdout",
     "output_type": "stream",
     "text": [
      "1\n",
      "2\n",
      "3\n",
      "4\n"
     ]
    }
   ],
   "source": [
    "#练习1\n",
    "#打印1-4的数字\n",
    "#rang()函数，定义一个范围，包括左侧，不包括右侧\n",
    "for i in range(1,5):\n",
    "    print(i)"
   ]
  },
  {
   "cell_type": "code",
   "execution_count": 5,
   "metadata": {},
   "outputs": [
    {
     "name": "stdout",
     "output_type": "stream",
     "text": [
      "zhangsan\n",
      "xiaoqiang\n",
      "tangmeimei\n",
      "wangmeili\n"
     ]
    }
   ],
   "source": [
    "#练习2\n",
    "#打印列表中的内容\n",
    "list1 = ['zhangsan','xiaoqiang','tangmeimei','wangmeili']\n",
    "\n",
    "for name in list1:\n",
    "    print(name)"
   ]
  },
  {
   "cell_type": "code",
   "execution_count": 7,
   "metadata": {},
   "outputs": [
    {
     "name": "stdout",
     "output_type": "stream",
     "text": [
      "zhangsan\n",
      "zhangsan,我们不约，不约！\n",
      "xiaoqiang\n",
      "xiaoqiang,我们不约，不约！\n",
      "tangmeimei\n",
      "tangmeimei,我们不约，不约！\n",
      "wangmeili\n",
      "我亲爱的wangmeili出现了！\n"
     ]
    }
   ],
   "source": [
    "#练习3\n",
    "#for循环中使用if条件判断\n",
    "list1 = ['zhangsan','xiaoqiang','tangmeimei','wangmeili']\n",
    "\n",
    "for name in list1:\n",
    "    print(name)\n",
    "    if name == 'wangmeili':\n",
    "        print(\"我亲爱的{0}出现了！\".format(name))\n",
    "    else:\n",
    "        print(\"{0},我们不约，不约！\".format(name))"
   ]
  },
  {
   "cell_type": "markdown",
   "metadata": {},
   "source": [
    "## for-else语句\n",
    "- 循环结束后，打印提示语"
   ]
  },
  {
   "cell_type": "code",
   "execution_count": 8,
   "metadata": {},
   "outputs": [
    {
     "name": "stdout",
     "output_type": "stream",
     "text": [
      "zhangsan\n",
      "zhangsan,我们不约，不约！\n",
      "xiaoqiang\n",
      "xiaoqiang,我们不约，不约！\n",
      "tangmeimei\n",
      "tangmeimei,我们不约，不约！\n",
      "wangmeili\n",
      "我亲爱的wangmeili出现了！\n",
      "真爱出现了\n"
     ]
    }
   ],
   "source": [
    "#使用for-else\n",
    "#for循环中使用if条件判断\n",
    "list1 = ['zhangsan','xiaoqiang','tangmeimei','wangmeili']\n",
    "\n",
    "for name in list1:\n",
    "    print(name)\n",
    "    if name == 'wangmeili':\n",
    "        print(\"我亲爱的{0}出现了！\".format(name))\n",
    "    else:\n",
    "        print(\"{0},我们不约，不约！\".format(name))\n",
    "else:\n",
    "    print(\"真爱出现了\")"
   ]
  },
  {
   "cell_type": "markdown",
   "metadata": {},
   "source": [
    "## 循环语句的控制条件\n",
    "- break：无条件终止整个循环\n",
    "- continue：无条件终止本次循环，重新进入下一轮循环\n",
    "- pass：表示路过"
   ]
  },
  {
   "cell_type": "code",
   "execution_count": 10,
   "metadata": {},
   "outputs": [
    {
     "name": "stdout",
     "output_type": "stream",
     "text": [
      "1\n",
      "2\n",
      "我找到了，就是3\n"
     ]
    }
   ],
   "source": [
    "#for循环中的变量通常的表示方法，一般用i,k,m,n,indx,idx,item等\n",
    "#如果变量名称不重要，可以使用下划线(_)表示\n",
    "\n",
    "#练习使用break跳出循环\n",
    "for i in range(1,6):\n",
    "    if i == 3:\n",
    "        print(\"我找到了，就是{0}\".format(i))\n",
    "        break\n",
    "    else:\n",
    "        print(i)"
   ]
  },
  {
   "cell_type": "code",
   "execution_count": 11,
   "metadata": {},
   "outputs": [
    {
     "name": "stdout",
     "output_type": "stream",
     "text": [
      "2 是偶数\n",
      "4 是偶数\n",
      "6 是偶数\n",
      "8 是偶数\n",
      "10 是偶数\n"
     ]
    }
   ],
   "source": [
    "#使用continue\n",
    "#打印1-10中的偶数\n",
    "#一般写法\n",
    "for i in range(1,11):\n",
    "    if i % 2 == 0:\n",
    "        print(\"{0} 是偶数\".format(i))"
   ]
  },
  {
   "cell_type": "code",
   "execution_count": 12,
   "metadata": {},
   "outputs": [
    {
     "name": "stdout",
     "output_type": "stream",
     "text": [
      "2 是偶数\n",
      "4 是偶数\n",
      "6 是偶数\n",
      "8 是偶数\n",
      "10 是偶数\n"
     ]
    }
   ],
   "source": [
    "#使用continue\n",
    "#打印1-10中的偶数\n",
    "for i in range(1,11):\n",
    "    if i % 2 == 1:\n",
    "        continue #判断i除以2余数是不是1，如果是，继续循环，如果不是，则执行if的外的语句\n",
    "    print(\"{0} 是偶数\".format(i))"
   ]
  },
  {
   "cell_type": "code",
   "execution_count": null,
   "metadata": {},
   "outputs": [],
   "source": []
  },
  {
   "cell_type": "code",
   "execution_count": null,
   "metadata": {},
   "outputs": [],
   "source": []
  },
  {
   "cell_type": "code",
   "execution_count": null,
   "metadata": {},
   "outputs": [],
   "source": []
  },
  {
   "cell_type": "code",
   "execution_count": null,
   "metadata": {},
   "outputs": [],
   "source": []
  },
  {
   "cell_type": "code",
   "execution_count": null,
   "metadata": {},
   "outputs": [],
   "source": []
  },
  {
   "cell_type": "code",
   "execution_count": null,
   "metadata": {},
   "outputs": [],
   "source": []
  },
  {
   "cell_type": "code",
   "execution_count": null,
   "metadata": {},
   "outputs": [],
   "source": []
  },
  {
   "cell_type": "code",
   "execution_count": null,
   "metadata": {},
   "outputs": [],
   "source": []
  },
  {
   "cell_type": "code",
   "execution_count": null,
   "metadata": {},
   "outputs": [],
   "source": []
  }
 ],
 "metadata": {
  "kernelspec": {
   "display_name": "Python 3",
   "language": "python",
   "name": "python3"
  },
  "language_info": {
   "codemirror_mode": {
    "name": "ipython",
    "version": 3
   },
   "file_extension": ".py",
   "mimetype": "text/x-python",
   "name": "python",
   "nbconvert_exporter": "python",
   "pygments_lexer": "ipython3",
   "version": "3.6.5"
  }
 },
 "nbformat": 4,
 "nbformat_minor": 2
}
